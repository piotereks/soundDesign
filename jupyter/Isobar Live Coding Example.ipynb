{
 "cells": [
  {
   "cell_type": "code",
   "execution_count": 1,
   "metadata": {},
   "outputs": [],
   "source": [
    "from isobar import *\n",
    "import logging\n",
    "logging.basicConfig(level=logging.INFO)"
   ]
  },
  {
   "cell_type": "code",
   "execution_count": 1,
   "metadata": {},
   "outputs": [
    {
     "name": "stdout",
     "output_type": "stream",
     "text": [
      "mo in gl: False\n",
      "no midiout\n"
     ]
    },
    {
     "name": "stderr",
     "output_type": "stream",
     "text": [
      "INFO:isobar.io.midi.output:Opened MIDI output: Microsoft GS Wavetable Synth 0\n"
     ]
    },
    {
     "name": "stdout",
     "output_type": "stream",
     "text": [
      "new timeline\n"
     ]
    },
    {
     "name": "stderr",
     "output_type": "stream",
     "text": [
      "INFO:isobar.timeline.timeline:Timeline: Starting\n",
      "WARNING:isobar.timeline.clock:Clock: Timer overflowed (late by 0.021s)\n",
      "WARNING:isobar.timeline.clock:Clock: Timer overflowed (late by 0.026s)\n",
      "WARNING:isobar.timeline.clock:Clock: Timer overflowed (late by 0.020s)\n",
      "WARNING:isobar.timeline.clock:Clock: Timer overflowed (late by 0.045s)\n"
     ]
    }
   ],
   "source": [
    "\n",
    "\n",
    "import isobar as iso\n",
    "import logging\n",
    "logging.basicConfig(level=logging.INFO)\n",
    "\n",
    "global midi_out\n",
    "global timeline\n",
    "global notes\n",
    "\n",
    "\n",
    "\n",
    "name = \"Microsoft GS Wavetable Synth 0\"\n",
    "print('mo in gl:','midi_out' in globals())\n",
    "if 'midi_out' not in locals():\n",
    "    print('no midiout')\n",
    "    midi_out = iso.MidiOutputDevice(device_name=name)\n",
    "\n",
    "else:\n",
    "    print('yes: midi out')    \n",
    "    \n",
    "if 'timeline' not in locals():\n",
    "    timeline = iso.Timeline(120,output_device=midi_out)    \n",
    "    timeline.background()  # use background instead of run to enable live performing (async notes passing)\n",
    "    print('new timeline')\n",
    "else:\n",
    "    print('timeline reused')"
   ]
  },
  {
   "cell_type": "code",
   "execution_count": 2,
   "metadata": {},
   "outputs": [
    {
     "name": "stderr",
     "output_type": "stream",
     "text": [
      "INFO:isobar.timeline.timeline:Timeline: Starting\n",
      "WARNING:isobar.timeline.clock:Clock: Timer overflowed (late by 0.020s)\n",
      "WARNING:isobar.timeline.clock:Clock: Timer overflowed (late by 0.024s)\n",
      "WARNING:isobar.timeline.clock:Clock: Timer overflowed (late by 0.028s)\n",
      "WARNING:isobar.timeline.clock:Clock: Timer overflowed (late by 0.056s)\n",
      "WARNING:isobar.timeline.clock:Clock: Timer overflowed (late by 0.029s)\n",
      "WARNING:isobar.timeline.clock:Clock: Timer overflowed (late by 0.046s)\n",
      "WARNING:isobar.timeline.clock:Clock: Timer overflowed (late by 0.035s)\n",
      "WARNING:isobar.timeline.clock:Clock: Timer overflowed (late by 0.026s)\n",
      "WARNING:isobar.timeline.clock:Clock: Timer overflowed (late by 0.033s)\n",
      "WARNING:isobar.timeline.clock:Clock: Timer overflowed (late by 0.065s)\n",
      "WARNING:isobar.timeline.clock:Clock: Timer overflowed (late by 0.021s)\n",
      "WARNING:isobar.timeline.clock:Clock: Timer overflowed (late by 0.022s)\n",
      "WARNING:isobar.timeline.clock:Clock: Timer overflowed (late by 0.047s)\n",
      "WARNING:isobar.timeline.clock:Clock: Timer overflowed (late by 0.020s)\n",
      "WARNING:isobar.timeline.clock:Clock: Timer overflowed (late by 0.031s)\n",
      "WARNING:isobar.timeline.clock:Clock: Timer overflowed (late by 0.021s)\n"
     ]
    }
   ],
   "source": [
    "timeline = Timeline(120)\n",
    "timeline.background()"
   ]
  },
  {
   "cell_type": "code",
   "execution_count": 2,
   "metadata": {},
   "outputs": [
    {
     "name": "stderr",
     "output_type": "stream",
     "text": [
      "Clock: Timer overflowed (late by 0.021s)\n",
      "Clock: Timer overflowed (late by 0.023s)\n",
      "Clock: Timer overflowed (late by 0.020s)\n",
      "Clock: Timer overflowed (late by 0.025s)\n",
      "Clock: Timer overflowed (late by 0.033s)\n"
     ]
    }
   ],
   "source": [
    "amplitude = iso.PSequence([96,96,96,96], repeats=8)\n",
    "amplitude = iso.PLoop(amplitude)\n",
    "length = iso.PSequence([1/2,1/2,1/2,1/2], repeats=8)*4\n",
    "length = iso.PLoop(length)\n",
    "# track=timeline.schedule()"
   ]
  },
  {
   "cell_type": "code",
   "execution_count": 14,
   "metadata": {},
   "outputs": [
    {
     "name": "stderr",
     "output_type": "stream",
     "text": [
      "WARNING:isobar.timeline.clock:Clock: Timer overflowed (late by 0.034s)\n"
     ]
    },
    {
     "ename": "AttributeError",
     "evalue": "module 'isobar.timeline' has no attribute 'schedule'",
     "output_type": "error",
     "traceback": [
      "\u001b[1;31m---------------------------------------------------------------------------\u001b[0m",
      "\u001b[1;31mAttributeError\u001b[0m                            Traceback (most recent call last)",
      "Input \u001b[1;32mIn [14]\u001b[0m, in \u001b[0;36m<cell line: 1>\u001b[1;34m()\u001b[0m\n\u001b[1;32m----> 1\u001b[0m track\u001b[38;5;241m=\u001b[39m\u001b[43mtimeline\u001b[49m\u001b[38;5;241;43m.\u001b[39;49m\u001b[43mschedule\u001b[49m()\n",
      "\u001b[1;31mAttributeError\u001b[0m: module 'isobar.timeline' has no attribute 'schedule'"
     ]
    },
    {
     "name": "stderr",
     "output_type": "stream",
     "text": [
      "WARNING:isobar.timeline.clock:Clock: Timer overflowed (late by 0.028s)\n",
      "WARNING:isobar.timeline.clock:Clock: Timer overflowed (late by 0.022s)\n"
     ]
    }
   ],
   "source": [
    "track=timeline.schedule()"
   ]
  },
  {
   "cell_type": "code",
   "execution_count": 16,
   "metadata": {},
   "outputs": [
    {
     "name": "stderr",
     "output_type": "stream",
     "text": [
      "WARNING:isobar.timeline.clock:Clock: Timer overflowed (late by 0.046s)\n",
      "WARNING:isobar.timeline.clock:Clock: Timer overflowed (late by 0.027s)\n"
     ]
    }
   ],
   "source": [
    "track.update (\n",
    "# track=timeline.schedule (\n",
    "{\n",
    "\"note\":iso.PSequence([1,3,2,4,3,5,4,6], repeats=4)+72,\n",
    " \"duration\":length/2,\n",
    " \"amplitude\":amplitude\n",
    "},quantize=1\n",
    ")"
   ]
  },
  {
   "cell_type": "code",
   "execution_count": 9,
   "metadata": {},
   "outputs": [
    {
     "name": "stdout",
     "output_type": "stream",
     "text": [
      "Track (pos = 0)\n"
     ]
    },
    {
     "name": "stderr",
     "output_type": "stream",
     "text": [
      "Clock: Timer overflowed (late by 0.027s)\n",
      "Clock: Timer overflowed (late by 0.021s)\n",
      "Clock: Timer overflowed (late by 0.024s)\n",
      "Clock: Timer overflowed (late by 0.022s)\n"
     ]
    }
   ],
   "source": [
    "print(track)"
   ]
  },
  {
   "cell_type": "code",
   "execution_count": 114,
   "metadata": {
    "pycharm": {
     "name": "#%%\n"
    }
   },
   "outputs": [
    {
     "name": "stderr",
     "output_type": "stream",
     "text": [
      "INFO:isobar.timeline.timeline:Timeline: Scheduled new track (total tracks: 1)\n",
      "INFO:isobar.timeline.timeline:Timeline: Scheduled new track (total tracks: 2)\n",
      "INFO:isobar.timeline.timeline:Timeline: Scheduled new track (total tracks: 3)\n",
      "WARNING:isobar.timeline.clock:Clock: Timer overflowed (late by 0.023s)\n",
      "WARNING:isobar.timeline.clock:Clock: Timer overflowed (late by 0.022s)\n",
      "WARNING:isobar.timeline.clock:Clock: Timer overflowed (late by 0.023s)\n",
      "WARNING:isobar.timeline.clock:Clock: Timer overflowed (late by 0.030s)\n"
     ]
    }
   ],
   "source": [
    "# track=timeline.schedule()\n",
    "stream1 = timeline.schedule(remove_when_done=False)\n",
    "stream2 = timeline.schedule(remove_when_done=False)\n",
    "stream3 = timeline.schedule(remove_when_done=False)"
   ]
  },
  {
   "cell_type": "code",
   "execution_count": 9,
   "metadata": {
    "pycharm": {
     "name": "#%%\n"
    }
   },
   "outputs": [
    {
     "name": "stderr",
     "output_type": "stream",
     "text": [
      "WARNING:isobar.timeline.clock:Clock: Timer overflowed (late by 0.021s)\n"
     ]
    }
   ],
   "source": [
    "stream1.update({\n",
    "    \"note\" : iso.PSequence([ 48 ]),\n",
    "    \"duration\": iso.PSequence([ 1 ])\n",
    "}, quantize=1)"
   ]
  },
  {
   "cell_type": "code",
   "execution_count": 31,
   "metadata": {
    "pycharm": {
     "name": "#%%\n"
    }
   },
   "outputs": [],
   "source": [
    "stream2.update({\n",
    "    \"note\" : iso.PSequence([ 60, 64, 67, 62 ]),\n",
    "    \"duration\": iso.PSequence([ 1.0, 0.5, 1.0 ])\n",
    "}, quantize=1)"
   ]
  },
  {
   "cell_type": "code",
   "execution_count": 14,
   "metadata": {
    "pycharm": {
     "name": "#%%\n"
    }
   },
   "outputs": [
    {
     "name": "stderr",
     "output_type": "stream",
     "text": [
      "WARNING:isobar.timeline.clock:Clock: Timer overflowed (late by 0.051s)\n",
      "WARNING:isobar.timeline.clock:Clock: Timer overflowed (late by 0.027s)\n"
     ]
    }
   ],
   "source": [
    "stream3.update ({\n",
    "    \"note\" : iso.PSequence([ 71, 72, 67, 71, None ]),\n",
    "    \"duration\": iso.PSequence([ 0.5, 0.5, 0.5 ])\n",
    "}, quantize=0.5)"
   ]
  },
  {
   "cell_type": "code",
   "execution_count": null,
   "metadata": {},
   "outputs": [],
   "source": []
  },
  {
   "cell_type": "code",
   "execution_count": 49,
   "metadata": {},
   "outputs": [],
   "source": [
    "stream1.update({\n",
    "    \"note\" : iso.PSequence([ 48 ]),\n",
    "    \"duration\": iso.PSequence([ 1 ])\n",
    "}, quantize=1)"
   ]
  },
  {
   "cell_type": "code",
   "execution_count": 117,
   "metadata": {},
   "outputs": [],
   "source": [
    "stream2.update({\n",
    "    \"note\" : iso.PSequence([ 71, 72, 67 ]),\n",
    "    \"duration\": iso.PSequence([ 0.5 ])\n",
    "}, quantize=4)\n",
    "stream3.update({\n",
    "    \"note\" : iso.PSequence([ None]),\n",
    "    \"duration\": iso.PSequence([ 0.5 ])\n",
    "}, quantize=0.5)\n"
   ]
  },
  {
   "cell_type": "code",
   "execution_count": 118,
   "metadata": {},
   "outputs": [
    {
     "name": "stderr",
     "output_type": "stream",
     "text": [
      "WARNING:isobar.timeline.clock:Clock: Timer overflowed (late by 0.028s)\n"
     ]
    }
   ],
   "source": [
    "stream3.update({\n",
    "    \"note\" : iso.PSequence([ 60, 64, 68]),\n",
    "    \"duration\": iso.PSequence([ 0.5 ])\n",
    "}, quantize=4)\n",
    "stream2.update({\n",
    "    \"note\" : iso.PSequence([ None]),\n",
    "    \"duration\": iso.PSequence([ 0.5 ])\n",
    "}, quantize=0.5)\n"
   ]
  },
  {
   "cell_type": "code",
   "execution_count": 77,
   "metadata": {},
   "outputs": [
    {
     "name": "stderr",
     "output_type": "stream",
     "text": [
      "WARNING:isobar.timeline.clock:Clock: Timer overflowed (late by 0.031s)\n"
     ]
    }
   ],
   "source": [
    "stream2.reset_to_beat()"
   ]
  },
  {
   "cell_type": "code",
   "execution_count": 119,
   "metadata": {},
   "outputs": [
    {
     "name": "stderr",
     "output_type": "stream",
     "text": [
      "WARNING:isobar.timeline.clock:Clock: Timer overflowed (late by 0.021s)\n",
      "WARNING:isobar.timeline.clock:Clock: Timer overflowed (late by 0.068s)\n",
      "WARNING:isobar.timeline.clock:Clock: Timer overflowed (late by 0.025s)\n",
      "WARNING:isobar.timeline.clock:Clock: Timer overflowed (late by 0.030s)\n",
      "WARNING:isobar.timeline.clock:Clock: Timer overflowed (late by 0.021s)\n",
      "WARNING:isobar.timeline.clock:Clock: Timer overflowed (late by 0.022s)\n",
      "WARNING:isobar.timeline.clock:Clock: Timer overflowed (late by 0.023s)\n",
      "WARNING:isobar.timeline.clock:Clock: Timer overflowed (late by 0.035s)\n",
      "WARNING:isobar.timeline.clock:Clock: Timer overflowed (late by 0.030s)\n",
      "WARNING:isobar.timeline.clock:Clock: Timer overflowed (late by 0.030s)\n",
      "WARNING:isobar.timeline.clock:Clock: Timer overflowed (late by 0.026s)\n",
      "WARNING:isobar.timeline.clock:Clock: Timer overflowed (late by 0.027s)\n",
      "WARNING:isobar.timeline.clock:Clock: Timer overflowed (late by 0.041s)\n",
      "WARNING:isobar.timeline.clock:Clock: Timer overflowed (late by 0.023s)\n",
      "WARNING:isobar.timeline.clock:Clock: Timer overflowed (late by 0.027s)\n"
     ]
    }
   ],
   "source": [
    "timeline.unschedule(stream1)\n",
    "timeline.unschedule(stream2)\n",
    "timeline.unschedule(stream3)"
   ]
  },
  {
   "cell_type": "code",
   "execution_count": 38,
   "metadata": {},
   "outputs": [
    {
     "name": "stdout",
     "output_type": "stream",
     "text": [
      "['__class__', '__delattr__', '__dict__', '__dir__', '__doc__', '__eq__', '__format__', '__ge__', '__getattribute__', '__gt__', '__hash__', '__init__', '__init_subclass__', '__le__', '__lt__', '__module__', '__ne__', '__new__', '__reduce__', '__reduce_ex__', '__repr__', '__setattr__', '__sizeof__', '__str__', '__subclasshook__', '__weakref__', 'current_event', 'current_event_count', 'current_time', 'event_stream', 'get_next_event', 'interpolate', 'interpolating_event', 'is_finished', 'max_event_count', 'next_event', 'next_event_time', 'note_offs', 'output_device', 'perform_event', 'remove_when_done', 'reset', 'reset_to_beat', 'schedule_note_off', 'tick', 'tick_duration', 'timeline', 'update']\n"
     ]
    },
    {
     "name": "stderr",
     "output_type": "stream",
     "text": [
      "WARNING:isobar.timeline.clock:Clock: Timer overflowed (late by 0.022s)\n",
      "WARNING:isobar.timeline.clock:Clock: Timer overflowed (late by 0.035s)\n",
      "WARNING:isobar.timeline.clock:Clock: Timer overflowed (late by 0.028s)\n",
      "WARNING:isobar.timeline.clock:Clock: Timer overflowed (late by 0.024s)\n"
     ]
    }
   ],
   "source": [
    "print(dir(stream3))"
   ]
  },
  {
   "cell_type": "code",
   "execution_count": null,
   "metadata": {},
   "outputs": [],
   "source": [
    "timeline.stop()"
   ]
  }
 ],
 "metadata": {
  "kernelspec": {
   "display_name": "Python 3 (ipykernel)",
   "language": "python",
   "name": "python3"
  },
  "language_info": {
   "codemirror_mode": {
    "name": "ipython",
    "version": 3
   },
   "file_extension": ".py",
   "mimetype": "text/x-python",
   "name": "python",
   "nbconvert_exporter": "python",
   "pygments_lexer": "ipython3",
   "version": "3.9.12"
  }
 },
 "nbformat": 4,
 "nbformat_minor": 4
}
