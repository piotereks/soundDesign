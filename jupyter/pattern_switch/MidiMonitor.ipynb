{
 "cells": [
  {
   "cell_type": "code",
   "execution_count": 1,
   "id": "806f0a4b-e128-46db-b72c-bec6152a34c6",
   "metadata": {},
   "outputs": [
    {
     "ename": "DeviceNotFoundException",
     "evalue": "Could not find MIDI device",
     "output_type": "error",
     "traceback": [
      "\u001b[1;31m---------------------------------------------------------------------------\u001b[0m",
      "\u001b[1;31mSystemError\u001b[0m                               Traceback (most recent call last)",
      "File \u001b[1;32m~\\anaconda3\\envs\\soundDesign\\lib\\site-packages\\isobar-0.1.1-py3.9.egg\\isobar\\io\\midi\\input.py:30\u001b[0m, in \u001b[0;36mMidiInputDevice.__init__\u001b[1;34m(self, device_name, clock_target, virtual)\u001b[0m\n\u001b[0;32m     29\u001b[0m \u001b[38;5;28;01mtry\u001b[39;00m:\n\u001b[1;32m---> 30\u001b[0m     \u001b[38;5;28mself\u001b[39m\u001b[38;5;241m.\u001b[39mmidi \u001b[38;5;241m=\u001b[39m \u001b[43mmido\u001b[49m\u001b[38;5;241;43m.\u001b[39;49m\u001b[43mopen_input\u001b[49m\u001b[43m(\u001b[49m\u001b[43mdevice_name\u001b[49m\u001b[43m,\u001b[49m\u001b[43m \u001b[49m\u001b[43mcallback\u001b[49m\u001b[38;5;241;43m=\u001b[39;49m\u001b[38;5;28;43mself\u001b[39;49m\u001b[38;5;241;43m.\u001b[39;49m\u001b[43m_callback\u001b[49m\u001b[43m,\u001b[49m\u001b[43m \u001b[49m\u001b[43mvirtual\u001b[49m\u001b[38;5;241;43m=\u001b[39;49m\u001b[43mvirtual\u001b[49m\u001b[43m)\u001b[49m\n\u001b[0;32m     31\u001b[0m \u001b[38;5;28;01mexcept\u001b[39;00m (\u001b[38;5;167;01mRuntimeError\u001b[39;00m, \u001b[38;5;167;01mSystemError\u001b[39;00m, \u001b[38;5;167;01mOSError\u001b[39;00m):\n",
      "File \u001b[1;32m~\\anaconda3\\envs\\soundDesign\\lib\\site-packages\\mido\\backends\\backend.py:91\u001b[0m, in \u001b[0;36mBackend.open_input\u001b[1;34m(self, name, virtual, callback, **kwargs)\u001b[0m\n\u001b[0;32m     89\u001b[0m     name \u001b[38;5;241m=\u001b[39m \u001b[38;5;28mself\u001b[39m\u001b[38;5;241m.\u001b[39m_env(\u001b[38;5;124m'\u001b[39m\u001b[38;5;124mMIDO_DEFAULT_INPUT\u001b[39m\u001b[38;5;124m'\u001b[39m)\n\u001b[1;32m---> 91\u001b[0m \u001b[38;5;28;01mreturn\u001b[39;00m \u001b[38;5;28mself\u001b[39m\u001b[38;5;241m.\u001b[39mmodule\u001b[38;5;241m.\u001b[39mInput(name, \u001b[38;5;241m*\u001b[39m\u001b[38;5;241m*\u001b[39m\u001b[38;5;28mself\u001b[39m\u001b[38;5;241m.\u001b[39m_add_api(kwargs))\n",
      "File \u001b[1;32m~\\anaconda3\\envs\\soundDesign\\lib\\site-packages\\mido\\ports.py:161\u001b[0m, in \u001b[0;36mBaseInput.__init__\u001b[1;34m(self, name, **kwargs)\u001b[0m\n\u001b[0;32m    156\u001b[0m \u001b[38;5;124;03m\"\"\"Create an input port.\u001b[39;00m\n\u001b[0;32m    157\u001b[0m \n\u001b[0;32m    158\u001b[0m \u001b[38;5;124;03mname is the port name, as returned by input_names(). If\u001b[39;00m\n\u001b[0;32m    159\u001b[0m \u001b[38;5;124;03mname is not passed, the default input is used instead.\u001b[39;00m\n\u001b[0;32m    160\u001b[0m \u001b[38;5;124;03m\"\"\"\u001b[39;00m\n\u001b[1;32m--> 161\u001b[0m BasePort\u001b[38;5;241m.\u001b[39m\u001b[38;5;21m__init__\u001b[39m(\u001b[38;5;28mself\u001b[39m, name, \u001b[38;5;241m*\u001b[39m\u001b[38;5;241m*\u001b[39mkwargs)\n\u001b[0;32m    162\u001b[0m \u001b[38;5;28mself\u001b[39m\u001b[38;5;241m.\u001b[39m_parser \u001b[38;5;241m=\u001b[39m Parser()\n",
      "File \u001b[1;32m~\\anaconda3\\envs\\soundDesign\\lib\\site-packages\\mido\\ports.py:86\u001b[0m, in \u001b[0;36mBasePort.__init__\u001b[1;34m(self, name, **kwargs)\u001b[0m\n\u001b[0;32m     85\u001b[0m \u001b[38;5;28mself\u001b[39m\u001b[38;5;241m.\u001b[39mclosed \u001b[38;5;241m=\u001b[39m \u001b[38;5;28;01mTrue\u001b[39;00m\n\u001b[1;32m---> 86\u001b[0m \u001b[38;5;28mself\u001b[39m\u001b[38;5;241m.\u001b[39m_open(\u001b[38;5;241m*\u001b[39m\u001b[38;5;241m*\u001b[39mkwargs)\n\u001b[0;32m     87\u001b[0m \u001b[38;5;28mself\u001b[39m\u001b[38;5;241m.\u001b[39mclosed \u001b[38;5;241m=\u001b[39m \u001b[38;5;28;01mFalse\u001b[39;00m\n",
      "File \u001b[1;32m~\\anaconda3\\envs\\soundDesign\\lib\\site-packages\\mido\\backends\\rtmidi.py:129\u001b[0m, in \u001b[0;36mInput._open\u001b[1;34m(self, client_name, virtual, api, callback, **kwargs)\u001b[0m\n\u001b[0;32m    127\u001b[0m \u001b[38;5;28mself\u001b[39m\u001b[38;5;241m.\u001b[39m_device_type \u001b[38;5;241m=\u001b[39m \u001b[38;5;124m'\u001b[39m\u001b[38;5;124mRtMidi/\u001b[39m\u001b[38;5;132;01m{}\u001b[39;00m\u001b[38;5;124m'\u001b[39m\u001b[38;5;241m.\u001b[39mformat(\u001b[38;5;28mself\u001b[39m\u001b[38;5;241m.\u001b[39mapi)\n\u001b[1;32m--> 129\u001b[0m \u001b[38;5;28mself\u001b[39m\u001b[38;5;241m.\u001b[39mname \u001b[38;5;241m=\u001b[39m \u001b[43m_open_port\u001b[49m\u001b[43m(\u001b[49m\u001b[38;5;28;43mself\u001b[39;49m\u001b[38;5;241;43m.\u001b[39;49m\u001b[43m_rt\u001b[49m\u001b[43m,\u001b[49m\u001b[43m \u001b[49m\u001b[38;5;28;43mself\u001b[39;49m\u001b[38;5;241;43m.\u001b[39;49m\u001b[43mname\u001b[49m\u001b[43m,\u001b[49m\u001b[43m \u001b[49m\u001b[43mclient_name\u001b[49m\u001b[38;5;241;43m=\u001b[39;49m\u001b[43mclient_name\u001b[49m\u001b[43m,\u001b[49m\n\u001b[0;32m    130\u001b[0m \u001b[43m                       \u001b[49m\u001b[43mvirtual\u001b[49m\u001b[38;5;241;43m=\u001b[39;49m\u001b[43mvirtual\u001b[49m\u001b[43m,\u001b[49m\u001b[43m \u001b[49m\u001b[43mapi\u001b[49m\u001b[38;5;241;43m=\u001b[39;49m\u001b[38;5;28;43mself\u001b[39;49m\u001b[38;5;241;43m.\u001b[39;49m\u001b[43mapi\u001b[49m\u001b[43m)\u001b[49m\n\u001b[0;32m    131\u001b[0m \u001b[38;5;28mself\u001b[39m\u001b[38;5;241m.\u001b[39m_rt\u001b[38;5;241m.\u001b[39mignore_types(\u001b[38;5;28;01mFalse\u001b[39;00m, \u001b[38;5;28;01mFalse\u001b[39;00m, \u001b[38;5;28;01mTrue\u001b[39;00m)\n",
      "File \u001b[1;32m~\\anaconda3\\envs\\soundDesign\\lib\\site-packages\\mido\\backends\\rtmidi.py:100\u001b[0m, in \u001b[0;36m_open_port\u001b[1;34m(rt, name, client_name, virtual, api)\u001b[0m\n\u001b[0;32m     99\u001b[0m \u001b[38;5;28;01mtry\u001b[39;00m:\n\u001b[1;32m--> 100\u001b[0m     \u001b[43mrt\u001b[49m\u001b[38;5;241;43m.\u001b[39;49m\u001b[43mopen_port\u001b[49m\u001b[43m(\u001b[49m\u001b[43mport_id\u001b[49m\u001b[43m)\u001b[49m\n\u001b[0;32m    101\u001b[0m \u001b[38;5;28;01mexcept\u001b[39;00m \u001b[38;5;167;01mRuntimeError\u001b[39;00m \u001b[38;5;28;01mas\u001b[39;00m err:\n",
      "File \u001b[1;32msrc\\_rtmidi.pyx:586\u001b[0m, in \u001b[0;36mrtmidi._rtmidi.MidiBase.open_port\u001b[1;34m()\u001b[0m\n",
      "File \u001b[1;32msrc\\_rtmidi.pyx:220\u001b[0m, in \u001b[0;36mrtmidi._rtmidi._cb_error_func\u001b[1;34m()\u001b[0m\n",
      "File \u001b[1;32msrc\\_rtmidi.pyx:408\u001b[0m, in \u001b[0;36mrtmidi._rtmidi._default_error_handler\u001b[1;34m()\u001b[0m\n",
      "\u001b[1;31mSystemError\u001b[0m: MidiInWinMM::openPort: error creating Windows MM MIDI input port.",
      "\nDuring handling of the above exception, another exception occurred:\n",
      "\u001b[1;31mDeviceNotFoundException\u001b[0m                   Traceback (most recent call last)",
      "Input \u001b[1;32mIn [1]\u001b[0m, in \u001b[0;36m<cell line: 19>\u001b[1;34m()\u001b[0m\n\u001b[0;32m     13\u001b[0m     \u001b[38;5;124;03m\"\"\"\u001b[39;00m\n\u001b[0;32m     14\u001b[0m \u001b[38;5;124;03m    The callback argument is a mido Message object:\u001b[39;00m\n\u001b[0;32m     15\u001b[0m \u001b[38;5;124;03m    https://mido.readthedocs.io/en/latest/messages.html\u001b[39;00m\n\u001b[0;32m     16\u001b[0m \u001b[38;5;124;03m    \"\"\"\u001b[39;00m\n\u001b[0;32m     17\u001b[0m     \u001b[38;5;28mprint\u001b[39m(\u001b[38;5;124m\"\u001b[39m\u001b[38;5;124m - Received MIDI: \u001b[39m\u001b[38;5;132;01m%s\u001b[39;00m\u001b[38;5;124m\"\u001b[39m \u001b[38;5;241m%\u001b[39m message)\n\u001b[1;32m---> 19\u001b[0m midi_in \u001b[38;5;241m=\u001b[39m \u001b[43miso\u001b[49m\u001b[38;5;241;43m.\u001b[39;49m\u001b[43mMidiInputDevice\u001b[49m\u001b[43m(\u001b[49m\u001b[43m)\u001b[49m\n\u001b[0;32m     20\u001b[0m midi_in\u001b[38;5;241m.\u001b[39mcallback \u001b[38;5;241m=\u001b[39m print_message\n\u001b[0;32m     21\u001b[0m \u001b[38;5;28mprint\u001b[39m(\u001b[38;5;124m\"\u001b[39m\u001b[38;5;124mOpened MIDI input: \u001b[39m\u001b[38;5;132;01m%s\u001b[39;00m\u001b[38;5;124m\"\u001b[39m \u001b[38;5;241m%\u001b[39m midi_in\u001b[38;5;241m.\u001b[39mdevice_name)\n",
      "File \u001b[1;32m~\\anaconda3\\envs\\soundDesign\\lib\\site-packages\\isobar-0.1.1-py3.9.egg\\isobar\\io\\midi\\input.py:32\u001b[0m, in \u001b[0;36mMidiInputDevice.__init__\u001b[1;34m(self, device_name, clock_target, virtual)\u001b[0m\n\u001b[0;32m     30\u001b[0m     \u001b[38;5;28mself\u001b[39m\u001b[38;5;241m.\u001b[39mmidi \u001b[38;5;241m=\u001b[39m mido\u001b[38;5;241m.\u001b[39mopen_input(device_name, callback\u001b[38;5;241m=\u001b[39m\u001b[38;5;28mself\u001b[39m\u001b[38;5;241m.\u001b[39m_callback, virtual\u001b[38;5;241m=\u001b[39mvirtual)\n\u001b[0;32m     31\u001b[0m \u001b[38;5;28;01mexcept\u001b[39;00m (\u001b[38;5;167;01mRuntimeError\u001b[39;00m, \u001b[38;5;167;01mSystemError\u001b[39;00m, \u001b[38;5;167;01mOSError\u001b[39;00m):\n\u001b[1;32m---> 32\u001b[0m     \u001b[38;5;28;01mraise\u001b[39;00m DeviceNotFoundException(\u001b[38;5;124m\"\u001b[39m\u001b[38;5;124mCould not find MIDI device\u001b[39m\u001b[38;5;124m\"\u001b[39m)\n\u001b[0;32m     34\u001b[0m \u001b[38;5;28mself\u001b[39m\u001b[38;5;241m.\u001b[39mclock_target \u001b[38;5;241m=\u001b[39m clock_target\n\u001b[0;32m     35\u001b[0m \u001b[38;5;28mself\u001b[39m\u001b[38;5;241m.\u001b[39mqueue \u001b[38;5;241m=\u001b[39m queue\u001b[38;5;241m.\u001b[39mQueue()\n",
      "\u001b[1;31mDeviceNotFoundException\u001b[0m: Could not find MIDI device"
     ]
    }
   ],
   "source": [
    "#!/usr/bin/env python3\n",
    "\n",
    "#------------------------------------------------------------------------\n",
    "# Prints all received MIDI messages to the console.\n",
    "# Demonstrates the use of callbacks to generate events when MIDI\n",
    "# messages are received.\n",
    "#------------------------------------------------------------------------\n",
    "\n",
    "import isobar as iso\n",
    "import time\n",
    "\n",
    "def print_message(message):\n",
    "    \"\"\"\n",
    "    The callback argument is a mido Message object:\n",
    "    https://mido.readthedocs.io/en/latest/messages.html\n",
    "    \"\"\"\n",
    "    print(\" - Received MIDI: %s\" % message)\n",
    "\n",
    "midi_in = iso.MidiInputDevice()\n",
    "midi_in.callback = print_message\n",
    "print(\"Opened MIDI input: %s\" % midi_in.device_name)\n",
    "\n",
    "try:\n",
    "    while True:\n",
    "        time.sleep(0.1)\n",
    "except KeyboardInterrupt:\n",
    "    pass"
   ]
  },
  {
   "cell_type": "code",
   "execution_count": null,
   "id": "2011bc2e-62b3-4057-a38d-bc30eb5aa63d",
   "metadata": {},
   "outputs": [],
   "source": [
    "asdf\n",
    "asdf\n"
   ]
  },
  {
   "cell_type": "code",
   "execution_count": 3,
   "id": "3206436d-408c-424d-85c9-1f690633e1ca",
   "metadata": {},
   "outputs": [
    {
     "name": "stdout",
     "output_type": "stream",
     "text": [
      "['Bome Virtual MIDI Port 0', \"Bome's Midi Translator 3 1\", \"Bome's Midi Translator 4 2\", \"Bome's Midi Translator 5 3\"]\n",
      "['Microsoft GS Wavetable Synth 0', 'Bome Virtual MIDI Port 1', 'Bome Virtual MIDI Port 2', \"Bome's Midi Translator 3 3\", \"Bome's Midi Translator 4 4\", \"Bome's Midi Translator 5 5\"]\n"
     ]
    }
   ],
   "source": [
    "import mido\n",
    "\n",
    "\n",
    "def midi_ports_print():\n",
    "    names=mido.get_input_names()\n",
    "    print(names)\n",
    "\n",
    "    names=mido.get_output_names()\n",
    "    print(names)\n",
    "\n",
    "midi_ports_print()    \n",
    "    "
   ]
  }
 ],
 "metadata": {
  "kernelspec": {
   "display_name": "Python 3 (ipykernel)",
   "language": "python",
   "name": "python3"
  },
  "language_info": {
   "codemirror_mode": {
    "name": "ipython",
    "version": 3
   },
   "file_extension": ".py",
   "mimetype": "text/x-python",
   "name": "python",
   "nbconvert_exporter": "python",
   "pygments_lexer": "ipython3",
   "version": "3.9.12"
  }
 },
 "nbformat": 4,
 "nbformat_minor": 5
}
