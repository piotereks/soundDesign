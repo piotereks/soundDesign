{
 "cells": [
  {
   "cell_type": "markdown",
   "id": "e163d1fa-5d08-4b45-84cc-1b2ac3bdc31a",
   "metadata": {},
   "source": [
    "# Sync from clock in\n",
    "A Timeline can be synchronised from an external MIDI clock:\n",
    "MIDI start and stop events will be followed. Querying the timeline's tempo will give an estimate of the current bpm based on a moving average.\n"
   ]
  },
  {
   "cell_type": "code",
   "execution_count": null,
   "id": "411f86d5-b66c-4c24-9b5b-b881ca8a338c",
   "metadata": {},
   "outputs": [],
   "source": [
    "\n",
    "\n",
    "midi_in = MidiInputDevice()\n",
    "timeline = iso.Timeline(clock_source=midi_in)\n",
    "timeline.run()\n",
    "\n",
    "\n"
   ]
  },
  {
   "cell_type": "markdown",
   "id": "7f860705-56de-45ce-be95-3228fd60d84f",
   "metadata": {},
   "source": [
    "## Sync to clock out\n",
    "You can also drive external MIDI clocks from a Timeline, by specifying the send_clock argument when creating the output device.\n",
    "\n"
   ]
  },
  {
   "cell_type": "code",
   "execution_count": null,
   "id": "665d2dad-7459-401c-b0b9-5462fc40f97b",
   "metadata": {},
   "outputs": [],
   "source": [
    "name = \"Microsoft GS Wavetable Synth 0\"\n",
    "print('mo in gl:','midi_out' in globals())\n",
    "if 'midi_out' not in locals():\n",
    "    print('no midiout')\n",
    "    midi_out = iso.MidiOutputDevice(device_name=name)"
   ]
  },
  {
   "cell_type": "code",
   "execution_count": null,
   "id": "2a14ec4f-fbfb-454f-ae6e-5e510beac822",
   "metadata": {},
   "outputs": [],
   "source": [
    "\n",
    "output_device = iso.MidiOutputDevice(send_clock=True)\n",
    "timeline = iso.Timeline(120, output_device=output_device)\n",
    "timeline.run()"
   ]
  },
  {
   "cell_type": "code",
   "execution_count": null,
   "id": "85ba7177-d929-4592-9d4f-0ebc8d03f411",
   "metadata": {},
   "outputs": [],
   "source": [
    "port = mido.open_output('Microsoft GS Wavetable Synth 0') \n",
    "output_device = iso.MidiOutputDevice(send_clock=True)\n",
    "timeline = iso.Timeline(120, output_device=output_device)\n",
    "timeline.run()"
   ]
  },
  {
   "cell_type": "code",
   "execution_count": 2,
   "id": "0a1e1168-4974-49c5-afb3-3c3af6cf0205",
   "metadata": {},
   "outputs": [
    {
     "name": "stdout",
     "output_type": "stream",
     "text": [
      "[\"Bome's Midi Translator 5 0\", 'Bome Virtual MIDI Port 1', \"Bome's Midi Translator 4 2\", \"Bome's Midi Translator 3 3\", \"Bome's Midi Translator 1 4\"]\n",
      "['Microsoft GS Wavetable Synth 0', \"Bome's Midi Translator 3 1\", 'Bome Virtual MIDI Port 2', \"Bome's Midi Translator 5 3\", 'Bome Virtual MIDI Port 4', \"Bome's Midi Translator 4 5\"]\n",
      "open inp Bome's Midi Translator 5 0 opened\n",
      "open inp Bome Virtual MIDI Port 1 opened\n",
      "open inp Bome's Midi Translator 4 2 opened\n",
      "open inp Bome's Midi Translator 3 3 opened\n",
      "open inp Bome's Midi Translator 1 4 opened\n",
      "Input Done\n"
     ]
    },
    {
     "name": "stderr",
     "output_type": "stream",
     "text": [
      "Exception ignored in: <function MidiOutputDevice.__del__ at 0x000001AF79EF5B80>\n",
      "Traceback (most recent call last):\n",
      "  File \"C:\\Users\\piote\\anaconda3\\envs\\soundDesign\\lib\\site-packages\\isobar-0.1.1-py3.9.egg\\isobar\\io\\midi\\output.py\", line 98, in __del__\n",
      "    del self.midi\n",
      "AttributeError: midi\n"
     ]
    },
    {
     "name": "stdout",
     "output_type": "stream",
     "text": [
      "open out Microsoft GS Wavetable Synth 0 opened\n",
      "open out Bome's Midi Translator 3 1 opened\n",
      "open out Bome Virtual MIDI Port 2 failed\n",
      "open out Bome's Midi Translator 5 3 opened\n",
      "open out Bome Virtual MIDI Port 4 opened\n",
      "open out Bome's Midi Translator 4 5 opened\n",
      "output Done\n",
      "Processing Done\n"
     ]
    }
   ],
   "source": [
    "import mido\n",
    "import isobar as iso\n",
    "import time\n",
    "\n",
    "names=mido.get_input_names()\n",
    "print(names)\n",
    "input_midi_name='Bome Virtual MIDI Port 1'\n",
    "\n",
    "\n",
    "# input_midi_name='Bome''s Midi Translator 3 1'\n",
    "\n",
    "names=mido.get_output_names()\n",
    "print(names)\n",
    "output_midi_name='Bome Virtual MIDI Port 2'\n",
    "input_midi_name='BMO2'\n",
    "\n",
    "# output_midi_name='Bome Virtual MIDI Port 2'\n",
    "for inp in mido.get_input_names():\n",
    "    try:\n",
    "        midi_in = iso.MidiInputDevice(device_name=inp)\n",
    "        print(f'open inp {inp} opened')\n",
    "\n",
    "    except:\n",
    "        print(f'open inp {inp} failed')\n",
    "\n",
    "# midi_in = iso.MidiInputDevice(device_name=input_midi_name)\n",
    "# timeline = iso.Timeline(clock_source=midi_in)\n",
    "# timeline.run()\n",
    "print('Input Done')\n",
    "\n",
    "for out in mido.get_output_names():\n",
    "    try:\n",
    "        midi_out = iso.MidiOutputDevice(device_name=out)\n",
    "        print(f'open out {out} opened')\n",
    "\n",
    "    except:\n",
    "        print(f'open out {out} failed')\n",
    "\n",
    "# output_device = iso.MidiOutputDevice(device_name=output_midi_name,send_clock=True)\n",
    "# timeline_out = iso.Timeline(120, output_device=output_device)\n",
    "# timeline_out.background()\n",
    "print('output Done')\n",
    "\n",
    "\n",
    "\n",
    "print('Processing Done')"
   ]
  },
  {
   "cell_type": "code",
   "execution_count": 1,
   "id": "009593cd-e435-4cb3-8229-4fd7d7947628",
   "metadata": {},
   "outputs": [
    {
     "name": "stdout",
     "output_type": "stream",
     "text": [
      "[\"Bome's Midi Translator 5 0\", 'Bome Virtual MIDI Port 1', \"Bome's Midi Translator 4 2\", \"Bome's Midi Translator 3 3\", \"Bome's Midi Translator 1 4\"]\n",
      "open in Bome Virtual MIDI Port 1 opened\n",
      "Input Done\n",
      "Opened MIDI input: Bome Virtual MIDI Port 1\n",
      "Processing Done\n"
     ]
    }
   ],
   "source": [
    "import mido\n",
    "import isobar as iso\n",
    "import time\n",
    "\n",
    "\n",
    "def print_message(message):\n",
    "    \"\"\"\n",
    "    The callback argument is a mido Message object:\n",
    "    https://mido.readthedocs.io/en/latest/messages.html\n",
    "    \"\"\"\n",
    "    print(\" - Received MIDI: %s\" % message)\n",
    "    \n",
    "def crt_input():\n",
    "    names=mido.get_input_names()\n",
    "    print(names)\n",
    "    input_midi_name='Bome Virtual MIDI Port 1'\n",
    "\n",
    "    try:\n",
    "        midi_in = iso.MidiInputDevice(device_name=input_midi_name)\n",
    "        print(f'open in {input_midi_name} opened')\n",
    "\n",
    "    except:\n",
    "        print(f'open in {input_midi_name} failed')\n",
    "\n",
    "\n",
    "    timeline_in = iso.Timeline(clock_source=midi_in)\n",
    "    timeline_in.background()\n",
    "    print('Input Done')\n",
    "    return midi_in\n",
    "\n",
    "def crt_output():\n",
    "    names=mido.get_output_names()\n",
    "    print(names)\n",
    "    output_midi_name='Bome Virtual MIDI Port 2'\n",
    "\n",
    "    try:\n",
    "        output_device = iso.MidiOutputDevice(device_name=output_midi_name,send_clock=True)\n",
    "        # output_device = iso.MidiOutputDevice(device_name=output_midi_name)\n",
    "        print(f'open out {output_midi_name} opened')\n",
    "\n",
    "\n",
    "    except:\n",
    "        print(f'open out {output_midi_name} failed')\n",
    "\n",
    "\n",
    "    timeline_out = iso.Timeline(120, output_device=output_device)\n",
    "    timeline_out.background()\n",
    "    print('output Done')\n",
    "\n",
    "\n",
    "\n",
    "\n",
    "midi_in=crt_input()\n",
    "# crt_output()\n",
    "\n",
    "# midi_in = iso.MidiInputDevice()\n",
    "midi_in.callback = print_message\n",
    "print(\"Opened MIDI input: %s\" % midi_in.device_name)\n",
    "\n",
    "\n",
    "print('Processing Done')"
   ]
  },
  {
   "cell_type": "code",
   "execution_count": 2,
   "id": "3a12f786-9a4a-448e-962f-37b8209b29be",
   "metadata": {},
   "outputs": [],
   "source": [
    "midi_in.callback = print_message"
   ]
  },
  {
   "cell_type": "code",
   "execution_count": 9,
   "id": "832e2386-79b6-4691-a431-66acf139890c",
   "metadata": {},
   "outputs": [
    {
     "name": "stdout",
     "output_type": "stream",
     "text": [
      "<isobar.io.midi.input.MidiInputDevice object at 0x0000026FBE29B1C0>\n",
      "None\n"
     ]
    }
   ],
   "source": [
    "print(midi_in)\n",
    "print(midi_in.tempo)\n",
    "# print(midi_in.receive())"
   ]
  },
  {
   "cell_type": "code",
   "execution_count": null,
   "id": "1f2b68a5-2366-4cfe-a865-2b8d31fb152d",
   "metadata": {},
   "outputs": [],
   "source": [
    "import isobar as iso\n",
    "import time\n",
    "\n",
    "def print_message(message):\n",
    "    \"\"\"\n",
    "    The callback argument is a mido Message object:\n",
    "    https://mido.readthedocs.io/en/latest/messages.html\n",
    "    \"\"\"\n",
    "    print(\" - Received MIDI: %s\" % message)\n",
    "\n",
    "midi_in = iso.MidiInputDevice()\n",
    "midi_in.callback = print_message\n",
    "print(\"Opened MIDI input: %s\" % midi_in.device_name)\n",
    "\n",
    "try:\n",
    "    while True:\n",
    "        time.sleep(0.1)\n",
    "except KeyboardInterrupt:\n",
    "    pass"
   ]
  }
 ],
 "metadata": {
  "kernelspec": {
   "display_name": "Python 3 (ipykernel)",
   "language": "python",
   "name": "python3"
  },
  "language_info": {
   "codemirror_mode": {
    "name": "ipython",
    "version": 3
   },
   "file_extension": ".py",
   "mimetype": "text/x-python",
   "name": "python",
   "nbconvert_exporter": "python",
   "pygments_lexer": "ipython3",
   "version": "3.9.12"
  }
 },
 "nbformat": 4,
 "nbformat_minor": 5
}
