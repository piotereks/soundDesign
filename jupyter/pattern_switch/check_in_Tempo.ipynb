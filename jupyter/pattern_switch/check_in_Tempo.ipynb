{
 "cells": [
  {
   "cell_type": "code",
   "execution_count": 1,
   "id": "15b3c72d-aae9-4e45-b89b-8342caff7955",
   "metadata": {},
   "outputs": [
    {
     "name": "stdout",
     "output_type": "stream",
     "text": [
      "[\"Bome's Midi Translator 5 0\", 'Bome Virtual MIDI Port 1', \"Bome's Midi Translator 4 2\", \"Bome's Midi Translator 1 3\", \"Bome's Midi Translator 3 4\", 'loopMIDI 5']\n",
      "open in Bome Virtual MIDI Port 1 opened\n",
      "Awaiting MIDI clock signal from Bome Virtual MIDI Port 1...\n"
     ]
    },
    {
     "data": {
      "text/plain": [
       "<isobar.timeline.track.Track at 0x275c64cae50>"
      ]
     },
     "execution_count": 1,
     "metadata": {},
     "output_type": "execute_result"
    }
   ],
   "source": [
    "import isobar as iso\n",
    "import mido\n",
    "\n",
    "names=mido.get_input_names()\n",
    "print(names)\n",
    "input_midi_name='Bome Virtual MIDI Port 1'\n",
    "# input_midi_name='loopMIDI 5'\n",
    "\n",
    "\n",
    "try:\n",
    "    midi_in = iso.MidiInputDevice(device_name=input_midi_name)\n",
    "    print(f'open in {input_midi_name} opened')\n",
    "\n",
    "except:\n",
    "    print(f'open in {input_midi_name} failed')\n",
    "\n",
    "\n",
    "def print_tempo():\n",
    "    if midi_in.tempo:\n",
    "        print(\"Estimated tempo: %.3f\" % midi_in.tempo)\n",
    "\n",
    "timeline = iso.Timeline(120, clock_source=midi_in)\n",
    "timeline.schedule({\n",
    "    \"action\": print_tempo\n",
    "})\n",
    "\n",
    "\n",
    "print(\"Awaiting MIDI clock signal from %s...\" % midi_in.device_name)\n",
    "\n",
    "timeline.background()\n",
    "\n",
    "timeline.schedule({\n",
    "    \"action\": lambda: print_tempo(),\n",
    "    \"duration\":4\n",
    "})"
   ]
  },
  {
   "cell_type": "code",
   "execution_count": 2,
   "id": "182bcb40-2040-453c-9835-f0b64d7f4626",
   "metadata": {},
   "outputs": [
    {
     "ename": "NameError",
     "evalue": "name 'timeline' is not defined",
     "output_type": "error",
     "traceback": [
      "\u001b[1;31m---------------------------------------------------------------------------\u001b[0m",
      "\u001b[1;31mNameError\u001b[0m                                 Traceback (most recent call last)",
      "Input \u001b[1;32mIn [2]\u001b[0m, in \u001b[0;36m<cell line: 1>\u001b[1;34m()\u001b[0m\n\u001b[1;32m----> 1\u001b[0m \u001b[43mtimeline\u001b[49m\u001b[38;5;241m.\u001b[39mschedule({\n\u001b[0;32m      2\u001b[0m     \u001b[38;5;124m\"\u001b[39m\u001b[38;5;124maction\u001b[39m\u001b[38;5;124m\"\u001b[39m: print_tempo\n\u001b[0;32m      3\u001b[0m })\n",
      "\u001b[1;31mNameError\u001b[0m: name 'timeline' is not defined"
     ]
    }
   ],
   "source": [
    "timeline.schedule({\n",
    "    \"action\": print_tempo\n",
    "})"
   ]
  },
  {
   "cell_type": "code",
   "execution_count": 7,
   "id": "6d3332b9-83e7-4ad1-af7e-bb1d09588d2d",
   "metadata": {},
   "outputs": [
    {
     "name": "stdout",
     "output_type": "stream",
     "text": [
      "None\n"
     ]
    }
   ],
   "source": [
    "print(midi_in.tempo)"
   ]
  },
  {
   "cell_type": "code",
   "execution_count": 5,
   "id": "adcfe04e-d640-4987-92b1-2a8ee7d3eb0e",
   "metadata": {},
   "outputs": [
    {
     "data": {
      "text/plain": [
       "<isobar.timeline.track.Track at 0x232644226d0>"
      ]
     },
     "execution_count": 5,
     "metadata": {},
     "output_type": "execute_result"
    }
   ],
   "source": [
    "timeline.schedule({\n",
    "    \"action\": lambda: print_tempo,\n",
    "    \"duration\":4\n",
    "})"
   ]
  },
  {
   "cell_type": "code",
   "execution_count": 2,
   "id": "4a7a4c79-d1d9-4802-92a3-030887a42cad",
   "metadata": {},
   "outputs": [
    {
     "ename": "NameError",
     "evalue": "name 'timeline' is not defined",
     "output_type": "error",
     "traceback": [
      "\u001b[1;31m---------------------------------------------------------------------------\u001b[0m",
      "\u001b[1;31mNameError\u001b[0m                                 Traceback (most recent call last)",
      "Input \u001b[1;32mIn [2]\u001b[0m, in \u001b[0;36m<cell line: 1>\u001b[1;34m()\u001b[0m\n\u001b[1;32m----> 1\u001b[0m \u001b[43mtimeline\u001b[49m\u001b[38;5;241m.\u001b[39mschedule({\n\u001b[0;32m      2\u001b[0m     \u001b[38;5;124m\"\u001b[39m\u001b[38;5;124maction\u001b[39m\u001b[38;5;124m\"\u001b[39m: \u001b[38;5;28;01mlambda\u001b[39;00m: print_tempo(),\n\u001b[0;32m      3\u001b[0m     \u001b[38;5;124m\"\u001b[39m\u001b[38;5;124mduration\u001b[39m\u001b[38;5;124m\"\u001b[39m:\u001b[38;5;241m4\u001b[39m\n\u001b[0;32m      4\u001b[0m })\n",
      "\u001b[1;31mNameError\u001b[0m: name 'timeline' is not defined"
     ]
    }
   ],
   "source": [
    "timeline.schedule({\n",
    "    \"action\": lambda: print_tempo(),\n",
    "    \"duration\":4\n",
    "})"
   ]
  },
  {
   "cell_type": "code",
   "execution_count": 9,
   "id": "5a014194-abcf-47f9-9fec-8837b2176154",
   "metadata": {},
   "outputs": [],
   "source": [
    "timeline.stop()\n",
    "timeline.tracks.clear()"
   ]
  }
 ],
 "metadata": {
  "kernelspec": {
   "display_name": "Python 3 (ipykernel)",
   "language": "python",
   "name": "python3"
  },
  "language_info": {
   "codemirror_mode": {
    "name": "ipython",
    "version": 3
   },
   "file_extension": ".py",
   "mimetype": "text/x-python",
   "name": "python",
   "nbconvert_exporter": "python",
   "pygments_lexer": "ipython3",
   "version": "3.9.12"
  }
 },
 "nbformat": 4,
 "nbformat_minor": 5
}
