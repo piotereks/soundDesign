{
 "cells": [
  {
   "cell_type": "markdown",
   "id": "4f062bae-e0b0-4050-9f59-4680f49f5def",
   "metadata": {},
   "source": [
    "# Working sync\n",
    "In this example, you replace beat\n",
    "beat=beat1\n",
    "beat=beat2\n",
    "and it gets changed with begining of new bar"
   ]
  },
  {
   "cell_type": "markdown",
   "id": "dbd587ff-c420-4d6f-b0d0-0f96e3e65dc2",
   "metadata": {},
   "source": [
    "# Init midi"
   ]
  },
  {
   "cell_type": "code",
   "execution_count": 1,
   "id": "540cf62c-a980-4d84-b026-d1a2415ab101",
   "metadata": {},
   "outputs": [
    {
     "name": "stdout",
     "output_type": "stream",
     "text": [
      "mo in gl: False\n",
      "no midiout\n",
      "creating timeline\n"
     ]
    },
    {
     "name": "stderr",
     "output_type": "stream",
     "text": [
      "Clock: Timer overflowed (late by 0.026s)\n",
      "Clock: Timer overflowed (late by 0.027s)\n"
     ]
    }
   ],
   "source": [
    "import time\n",
    "import isobar as iso\n",
    "\n",
    "# one time init  (this is the best to used globals)\n",
    "# One time is sufficient, so basically this may be repeated\n",
    "\n",
    "\n",
    "import isobar as iso\n",
    "global midi_out\n",
    "global timeline\n",
    "global tline1\n",
    "global tline2\n",
    "\n",
    "name = \"Microsoft GS Wavetable Synth 0\"\n",
    "name= \"Bome Virtual MIDI Port 2\"\n",
    "print('mo in gl:','midi_out' in globals())\n",
    "if 'midi_out' not in locals():\n",
    "    print('no midiout')\n",
    "    midi_out = iso.MidiOutputDevice(device_name=name)\n",
    "\n",
    "else:\n",
    "    print('yes: midi out')    \n",
    "    \n",
    "if 'timeline' not in locals():\n",
    "    print('creating timeline')\n",
    "    timeline = iso.Timeline(120,output_device=midi_out)    \n",
    "    timeline.background()  # use background instead of run to enable live performing (async notes passing)\n",
    "else:          \n",
    "    print('reusing timeline')\n",
    "\n",
    "\n"
   ]
  },
  {
   "cell_type": "markdown",
   "id": "77abb327-48ef-4fa6-a9b7-6b232c0197ca",
   "metadata": {},
   "source": [
    "# define pattern as function"
   ]
  },
  {
   "cell_type": "code",
   "execution_count": 2,
   "id": "6dac2297-111d-4efc-8f50-2e13ad230565",
   "metadata": {},
   "outputs": [
    {
     "name": "stdout",
     "output_type": "stream",
     "text": [
      "xtime: 11\n",
      "diff:10.69791666666622, timeXX: 10.69791666666622, 11 beat: 1\n",
      "\n"
     ]
    },
    {
     "data": {
      "text/plain": [
       "<isobar.timeline.track.Track at 0x23a7fed61c0>"
      ]
     },
     "execution_count": 2,
     "metadata": {},
     "output_type": "execute_result"
    },
    {
     "name": "stdout",
     "output_type": "stream",
     "text": [
      "diff:3.9999999999997726, timeXX: 14.697916666665993, 15 beat: 2\n",
      "\n",
      "diff:4.000000000002071, timeXX: 18.697916666668064, 19 beat: 3\n",
      "\n",
      "diff:4.000000000003183, timeXX: 22.697916666671247, 23 beat: 4\n",
      "\n",
      "diff:4.000000000003183, timeXX: 26.69791666667443, 27 beat: 1\n",
      "\n",
      "diff:4.000000000003183, timeXX: 30.697916666677614, 31 beat: 2\n",
      "\n"
     ]
    },
    {
     "name": "stderr",
     "output_type": "stream",
     "text": [
      "Clock: Timer overflowed (late by 0.066s)\n",
      "Clock: Timer overflowed (late by 0.074s)\n",
      "Clock: Timer overflowed (late by 0.043s)\n"
     ]
    },
    {
     "name": "stdout",
     "output_type": "stream",
     "text": [
      "diff:3.999999999998579, timeXX: 34.69791666667619, 35 beat: 3\n",
      "\n",
      "diff:3.999999999996362, timeXX: 38.697916666672555, 39 beat: 4\n",
      "\n",
      "diff:3.999999999996362, timeXX: 42.69791666666892, 43 beat: 1\n",
      "\n",
      "diff:3.999999999996362, timeXX: 46.69791666666528, 47 beat: 2\n",
      "\n",
      "diff:3.999999999996362, timeXX: 50.69791666666164, 51 beat: 3\n",
      "\n",
      "diff:3.999999999996362, timeXX: 54.697916666658, 55 beat: 4\n",
      "\n",
      "diff:3.999999999996362, timeXX: 58.697916666654365, 59 beat: 1\n",
      "\n",
      "diff:3.999999999996362, timeXX: 62.69791666665073, 63 beat: 2\n",
      "\n",
      "diff:3.999999999996362, timeXX: 66.69791666664709, 67 beat: 3\n",
      "\n"
     ]
    },
    {
     "name": "stderr",
     "output_type": "stream",
     "text": [
      "Clock: Timer overflowed (late by 0.039s)\n",
      "Clock: Timer overflowed (late by 0.044s)\n"
     ]
    },
    {
     "name": "stdout",
     "output_type": "stream",
     "text": [
      "diff:3.999999999996362, timeXX: 70.69791666664345, 71 beat: 4\n",
      "\n",
      "diff:3.999999999996362, timeXX: 74.69791666663981, 75 beat: 1\n",
      "\n",
      "diff:3.999999999996362, timeXX: 78.69791666663617, 79 beat: 2\n",
      "\n",
      "diff:3.999999999996362, timeXX: 82.69791666663254, 83 beat: 3\n",
      "\n",
      "diff:3.999999999996362, timeXX: 86.6979166666289, 87 beat: 4\n",
      "\n",
      "diff:3.999999999996362, timeXX: 90.69791666662526, 91 beat: 1\n",
      "\n"
     ]
    }
   ],
   "source": [
    "# filename = \"output.mid\"\n",
    "# output = iso.MidiFileOutputDevice(filename)\n",
    "# # iso.MAX_CLOCK_RATE\n",
    "# timeline = iso.Timeline(120, output_device=output)\n",
    "# # timeline = iso.Timeline(iso.MAX_CLOCK_RATE, output_device=output)\n",
    "# timeline.stop_when_done = True\n",
    "print(f\"xtime: {round(timeline.current_time)}\")\n",
    "global beat_count\n",
    "beat_count=0\n",
    "prev_time=0\n",
    "\n",
    "def beat1():\n",
    "    global beat_count\n",
    "    global prev_time\n",
    "    beat_count+=1\n",
    "\n",
    "    diff_time=timeline.current_time-prev_time\n",
    "    prev_time=timeline.current_time\n",
    "    print(f\"diff:{diff_time}, timeYY: {timeline.current_time}, {round(timeline.current_time)} beat: {beat_count}\\n\")\n",
    "    beat_count%=4\n",
    "    \n",
    "    notes = iso.PSequence([1,3,2,4], repeats=1)\n",
    "\n",
    "    \n",
    "    xxx= timeline.schedule (\n",
    "    {\"note\":notes.copy()+72\n",
    "    }\n",
    "    ,\n",
    "            replace=True #this is not working with version 0.1.1, only with github\n",
    "        ,name=\"blah\" #this is not working with version 0.1.1, only with github\n",
    "\n",
    "    )     \n",
    "    \n",
    "def beat2():\n",
    "    global beat_count\n",
    "    global prev_time\n",
    "    beat_count+=1\n",
    "\n",
    "    diff_time=timeline.current_time-prev_time\n",
    "    prev_time=timeline.current_time\n",
    "    print(f\"diff:{diff_time}, timeXX: {timeline.current_time}, {round(timeline.current_time)} beat: {beat_count}\\n\")\n",
    "    beat_count%=4\n",
    "\n",
    "    notes = iso.PSequence([1,3,2,4], repeats=1)\n",
    "\n",
    "    xxx= timeline.schedule (\n",
    "    {\"note\":notes.copy()+66\n",
    "     }\n",
    "        ,replace=True  #this is not working with version 0.1.1, only with github\n",
    "        ,name=\"blah\"  #this is not working with version 0.1.1, only with github\n",
    "    )    \n",
    "def beatNone():\n",
    "    global beat_count\n",
    "    global prev_time\n",
    "    beat_count+=1\n",
    "\n",
    "    diff_time=timeline.current_time-prev_time\n",
    "    prev_time=timeline.current_time\n",
    "    print(f\"diff:{diff_time}, timeXX: {timeline.current_time}, {round(timeline.current_time)} beat: {beat_count}\\n\")\n",
    "    beat_count%=4\n",
    "\n",
    "    notes = iso.PSequence([1,3,2,4], repeats=1)\n",
    "\n",
    "    xxx= timeline.schedule ()        \n",
    "#intialize with beat1    \n",
    "# beat=beat1\n",
    "beat= beatNone\n",
    "\n",
    "# Run main function beat with duration 4. This one is looping forever.\n",
    "timeline.background()\n",
    "timeline.schedule({\n",
    "    \"action\": lambda: beat(),\n",
    "    \"duration\":4\n",
    "})"
   ]
  },
  {
   "cell_type": "code",
   "execution_count": 12,
   "id": "80a6382f-67c9-45ca-8ff6-398de82bfdcb",
   "metadata": {},
   "outputs": [
    {
     "name": "stderr",
     "output_type": "stream",
     "text": [
      "Clock: Timer overflowed (late by 0.023s)\n",
      "Clock: Timer overflowed (late by 0.021s)\n",
      "Clock: Timer overflowed (late by 0.023s)\n",
      "Clock: Timer overflowed (late by 0.020s)\n",
      "Clock: Timer overflowed (late by 0.021s)\n"
     ]
    },
    {
     "name": "stdout",
     "output_type": "stream",
     "text": [
      "diff:3.999999999996362, timeXX: 155.99791666656589, 156 beat: 4\n",
      "\n"
     ]
    }
   ],
   "source": [
    "timeline.stop()"
   ]
  }
 ],
 "metadata": {
  "kernelspec": {
   "display_name": "Python 3 (ipykernel)",
   "language": "python",
   "name": "python3"
  },
  "language_info": {
   "codemirror_mode": {
    "name": "ipython",
    "version": 3
   },
   "file_extension": ".py",
   "mimetype": "text/x-python",
   "name": "python",
   "nbconvert_exporter": "python",
   "pygments_lexer": "ipython3",
   "version": "3.9.12"
  }
 },
 "nbformat": 4,
 "nbformat_minor": 5
}
