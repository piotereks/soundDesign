{
 "cells": [
  {
   "cell_type": "markdown",
   "id": "4f062bae-e0b0-4050-9f59-4680f49f5def",
   "metadata": {},
   "source": [
    "# Working sync\n",
    "In this example, you replace beat\n",
    "beat=beat1\n",
    "beat=beat2\n",
    "and it gets changed with begining of new bar"
   ]
  },
  {
   "cell_type": "markdown",
   "id": "dbd587ff-c420-4d6f-b0d0-0f96e3e65dc2",
   "metadata": {},
   "source": [
    "# Init midi"
   ]
  },
  {
   "cell_type": "code",
   "execution_count": 2,
   "id": "8733ba42-cbaa-4912-a48a-bb8cd660ee70",
   "metadata": {},
   "outputs": [
    {
     "name": "stderr",
     "output_type": "stream",
     "text": [
      "Clock: Timer overflowed (late by 0.021s)\n",
      "Clock: Timer overflowed (late by 0.029s)\n"
     ]
    }
   ],
   "source": [
    "del midi_out"
   ]
  },
  {
   "cell_type": "code",
   "execution_count": 1,
   "id": "540cf62c-a980-4d84-b026-d1a2415ab101",
   "metadata": {},
   "outputs": [
    {
     "name": "stdout",
     "output_type": "stream",
     "text": [
      "mo in gl: False\n",
      "no midiout\n",
      "creating timeline\n"
     ]
    }
   ],
   "source": [
    "import time\n",
    "import isobar as iso\n",
    "\n",
    "# one time init  (this is the best to used globals)\n",
    "# One time is sufficient, so basically this may be repeated\n",
    "\n",
    "\n",
    "import isobar as iso\n",
    "global midi_out\n",
    "global timeline\n",
    "global tline1\n",
    "global tline2\n",
    "\n",
    "name = \"Microsoft GS Wavetable Synth 0\"\n",
    "name= \"Bome Virtual MIDI Port 2\"\n",
    "# name= \"loopMIDI 6\"\n",
    "\n",
    "print('mo in gl:','midi_out' in globals())\n",
    "if 'midi_out' not in locals():\n",
    "    print('no midiout')\n",
    "    midi_out = iso.MidiOutputDevice(device_name=name,send_clock=True)\n",
    "\n",
    "else:\n",
    "    print('yes: midi out')    \n",
    "    \n",
    "if 'timeline' not in locals():\n",
    "    print('creating timeline')\n",
    "    timeline = iso.Timeline(120,output_device=midi_out)    \n",
    "    timeline.background()  # use background instead of run to enable live performing (async notes passing)\n",
    "else:          \n",
    "    print('reusing timeline')\n",
    "\n",
    "\n"
   ]
  },
  {
   "cell_type": "markdown",
   "id": "77abb327-48ef-4fa6-a9b7-6b232c0197ca",
   "metadata": {},
   "source": [
    "# define pattern as function"
   ]
  },
  {
   "cell_type": "code",
   "execution_count": 2,
   "id": "6dac2297-111d-4efc-8f50-2e13ad230565",
   "metadata": {},
   "outputs": [
    {
     "name": "stderr",
     "output_type": "stream",
     "text": [
      "Clock: Timer overflowed (late by 0.022s)\n"
     ]
    },
    {
     "name": "stdout",
     "output_type": "stream",
     "text": [
      "xtime: 6\n",
      "diff:5.922916666666491, timeXX: 5.922916666666491, 6 beat: 1\n",
      "\n"
     ]
    },
    {
     "name": "stderr",
     "output_type": "stream",
     "text": [
      "Clock: Timer overflowed (late by 0.044s)\n"
     ]
    },
    {
     "data": {
      "text/plain": [
       "<isobar.timeline.track.Track at 0x278121e5f10>"
      ]
     },
     "execution_count": 2,
     "metadata": {},
     "output_type": "execute_result"
    },
    {
     "name": "stderr",
     "output_type": "stream",
     "text": [
      "Clock: Timer overflowed (late by 0.036s)\n",
      "Clock: Timer overflowed (late by 0.062s)\n",
      "Clock: Timer overflowed (late by 0.082s)\n",
      "Clock: Timer overflowed (late by 0.075s)\n",
      "Clock: Timer overflowed (late by 0.029s)\n",
      "Clock: Timer overflowed (late by 0.032s)\n",
      "Clock: Timer overflowed (late by 0.024s)\n",
      "Clock: Timer overflowed (late by 0.027s)\n",
      "Clock: Timer overflowed (late by 0.031s)\n"
     ]
    },
    {
     "name": "stdout",
     "output_type": "stream",
     "text": [
      "diff:3.9999999999997735, timeXX: 9.922916666666264, 10 beat: 2\n",
      "\n",
      "diff:3.9999999999997726, timeXX: 13.922916666666037, 14 beat: 3\n",
      "\n",
      "diff:4.00000000000141, timeXX: 17.922916666667447, 18 beat: 4\n",
      "\n",
      "diff:4.000000000003183, timeXX: 21.92291666667063, 22 beat: 1\n",
      "\n",
      "diff:4.000000000003183, timeXX: 25.922916666673814, 26 beat: 2\n",
      "\n"
     ]
    },
    {
     "name": "stderr",
     "output_type": "stream",
     "text": [
      "Clock: Timer overflowed (late by 0.023s)\n",
      "Clock: Timer overflowed (late by 0.024s)\n",
      "Clock: Timer overflowed (late by 0.028s)\n",
      "Clock: Timer overflowed (late by 0.048s)\n",
      "Clock: Timer overflowed (late by 0.023s)\n",
      "Clock: Timer overflowed (late by 0.037s)\n",
      "Clock: Timer overflowed (late by 0.041s)\n",
      "Clock: Timer overflowed (late by 0.021s)\n",
      "Clock: Timer overflowed (late by 0.036s)\n",
      "Clock: Timer overflowed (late by 0.038s)\n",
      "Clock: Timer overflowed (late by 0.036s)\n",
      "Clock: Timer overflowed (late by 0.044s)\n",
      "Clock: Timer overflowed (late by 0.068s)\n",
      "Clock: Timer overflowed (late by 0.073s)\n",
      "Clock: Timer overflowed (late by 0.024s)\n"
     ]
    },
    {
     "name": "stdout",
     "output_type": "stream",
     "text": [
      "diff:4.000000000003183, timeXX: 29.922916666676997, 30 beat: 3\n",
      "\n",
      "diff:3.997916666666569, timeXX: 33.920833333343566, 34 beat: 4\n",
      "\n",
      "diff:4.0020833333296935, timeXX: 37.92291666667326, 38 beat: 1\n",
      "\n",
      "diff:3.999999999996362, timeXX: 41.92291666666962, 42 beat: 2\n",
      "\n",
      "diff:3.999999999996362, timeXX: 45.922916666665984, 46 beat: 3\n",
      "\n",
      "diff:3.999999999996362, timeXX: 49.922916666662346, 50 beat: 4\n",
      "\n"
     ]
    },
    {
     "name": "stderr",
     "output_type": "stream",
     "text": [
      "Clock: Timer overflowed (late by 0.034s)\n",
      "Clock: Timer overflowed (late by 0.023s)\n",
      "Clock: Timer overflowed (late by 0.020s)\n",
      "Clock: Timer overflowed (late by 0.046s)\n",
      "Clock: Timer overflowed (late by 0.084s)\n",
      "Clock: Timer overflowed (late by 0.038s)\n",
      "Clock: Timer overflowed (late by 0.033s)\n",
      "Clock: Timer overflowed (late by 0.035s)\n",
      "Clock: Timer overflowed (late by 0.024s)\n",
      "Clock: Timer overflowed (late by 0.036s)\n"
     ]
    },
    {
     "name": "stdout",
     "output_type": "stream",
     "text": [
      "diff:3.999999999996362, timeXX: 53.92291666665871, 54 beat: 1\n",
      "\n"
     ]
    },
    {
     "name": "stderr",
     "output_type": "stream",
     "text": [
      "Clock: Timer overflowed (late by 0.044s)\n"
     ]
    },
    {
     "name": "stdout",
     "output_type": "stream",
     "text": [
      "diff:3.999999999996362, timeXX: 57.92291666665507, 58 beat: 2\n",
      "\n",
      "diff:3.999999999996362, timeXX: 61.92291666665143, 62 beat: 3\n",
      "\n"
     ]
    },
    {
     "name": "stderr",
     "output_type": "stream",
     "text": [
      "Clock: Timer overflowed (late by 0.036s)\n",
      "Clock: Timer overflowed (late by 0.036s)\n",
      "Clock: Timer overflowed (late by 0.026s)\n",
      "Clock: Timer overflowed (late by 0.029s)\n",
      "Clock: Timer overflowed (late by 0.044s)\n"
     ]
    },
    {
     "name": "stdout",
     "output_type": "stream",
     "text": [
      "diff:3.999999999996362, timeXX: 65.9229166666478, 66 beat: 4\n",
      "\n",
      "diff:3.999999999996362, timeXX: 69.92291666664416, 70 beat: 1\n",
      "\n",
      "diff:3.999999999996362, timeXX: 73.92291666664052, 74 beat: 2\n",
      "\n",
      "diff:3.999999999996362, timeXX: 77.92291666663688, 78 beat: 3\n",
      "\n",
      "diff:3.999999999996362, timeXX: 81.92291666663324, 82 beat: 4\n",
      "\n",
      "diff:3.999999999996362, timeXX: 85.9229166666296, 86 beat: 1\n",
      "\n",
      "diff:3.999999999996362, timeXX: 89.92291666662597, 90 beat: 2\n",
      "\n",
      "diff:3.999999999996362, timeXX: 93.92291666662233, 94 beat: 3\n",
      "\n",
      "diff:3.999999999996362, timeXX: 97.92291666661869, 98 beat: 4\n",
      "\n"
     ]
    },
    {
     "name": "stderr",
     "output_type": "stream",
     "text": [
      "Clock: Timer overflowed (late by 0.115s)\n",
      "Clock: Timer overflowed (late by 0.118s)\n",
      "Clock: Timer overflowed (late by 0.047s)\n",
      "Clock: Timer overflowed (late by 0.052s)\n",
      "Clock: Timer overflowed (late by 0.056s)\n",
      "Clock: Timer overflowed (late by 0.045s)\n",
      "Exception in thread Thread-6:\n",
      "Traceback (most recent call last):\n",
      "  File \"C:\\Users\\piote\\anaconda3\\envs\\soundDesign\\lib\\threading.py\", line 973, in _bootstrap_inner\n",
      "    self.run()\n",
      "  File \"C:\\Users\\piote\\anaconda3\\envs\\soundDesign\\lib\\threading.py\", line 910, in run\n",
      "    self._target(*self._args, **self._kwargs)\n",
      "  File \"C:\\Users\\piote\\anaconda3\\envs\\soundDesign\\lib\\site-packages\\isobar-0.1.1-py3.9.egg\\isobar\\timeline\\timeline.py\", line 254, in run\n",
      "    raise e\n",
      "  File \"C:\\Users\\piote\\anaconda3\\envs\\soundDesign\\lib\\site-packages\\isobar-0.1.1-py3.9.egg\\isobar\\timeline\\timeline.py\", line 242, in run\n",
      "    self.clock_source.run()\n",
      "  File \"C:\\Users\\piote\\anaconda3\\envs\\soundDesign\\lib\\site-packages\\isobar-0.1.1-py3.9.egg\\isobar\\timeline\\clock.py\", line 86, in run\n",
      "    self.clock_target.tick()\n",
      "  File \"C:\\Users\\piote\\anaconda3\\envs\\soundDesign\\lib\\site-packages\\isobar-0.1.1-py3.9.egg\\isobar\\timeline\\timeline.py\", line 179, in tick\n",
      "    ticks = next(clock_multiplier)\n",
      "ValueError: generator already executing\n"
     ]
    },
    {
     "name": "stdout",
     "output_type": "stream",
     "text": [
      "diff:3.9979166666630306, timeXX: 101.92083333328172, 102 beat: 1\n",
      "\n",
      " *** Exception in Timeline thread: generator already executing\n"
     ]
    },
    {
     "name": "stderr",
     "output_type": "stream",
     "text": [
      "Clock: Timer overflowed (late by 0.047s)\n",
      "Clock: Timer overflowed (late by 0.040s)\n",
      "Clock: Timer overflowed (late by 0.050s)\n",
      "Clock: Timer overflowed (late by 0.027s)\n",
      "Clock: Timer overflowed (late by 0.091s)\n",
      "Clock: Timer overflowed (late by 0.030s)\n",
      "Clock: Timer overflowed (late by 0.077s)\n",
      "Clock: Timer overflowed (late by 0.041s)\n",
      "Clock: Timer overflowed (late by 0.024s)\n"
     ]
    },
    {
     "name": "stdout",
     "output_type": "stream",
     "text": [
      "diff:3.999999999996362, timeXX: 105.92083333327808, 106 beat: 2\n",
      "\n",
      "diff:3.999999999996362, timeXX: 109.92083333327444, 110 beat: 3\n",
      "\n"
     ]
    }
   ],
   "source": [
    "# filename = \"output.mid\"\n",
    "# output = iso.MidiFileOutputDevice(filename)\n",
    "# # iso.MAX_CLOCK_RATE\n",
    "# timeline = iso.Timeline(120, output_device=output)\n",
    "# # timeline = iso.Timeline(iso.MAX_CLOCK_RATE, output_device=output)\n",
    "# timeline.stop_when_done = True\n",
    "print(f\"xtime: {round(timeline.current_time)}\")\n",
    "global beat_count\n",
    "beat_count=0\n",
    "prev_time=0\n",
    "\n",
    "def beat1():\n",
    "    global beat_count\n",
    "    global prev_time\n",
    "    beat_count+=1\n",
    "\n",
    "    diff_time=timeline.current_time-prev_time\n",
    "    prev_time=timeline.current_time\n",
    "    print(f\"diff:{diff_time}, timeYY: {timeline.current_time}, {round(timeline.current_time)} beat: {beat_count}\\n\")\n",
    "    beat_count%=4\n",
    "    \n",
    "    notes = iso.PSequence([1,3,2,4], repeats=1)\n",
    "\n",
    "    \n",
    "    xxx= timeline.schedule (\n",
    "    {\"note\":notes.copy()+72\n",
    "    }\n",
    "    ,\n",
    "            replace=True #this is not working with version 0.1.1, only with github\n",
    "        ,name=\"blah\" #this is not working with version 0.1.1, only with github\n",
    "\n",
    "    )     \n",
    "    \n",
    "def beat2():\n",
    "    global beat_count\n",
    "    global prev_time\n",
    "    beat_count+=1\n",
    "\n",
    "    diff_time=timeline.current_time-prev_time\n",
    "    prev_time=timeline.current_time\n",
    "    print(f\"diff:{diff_time}, timeXX: {timeline.current_time}, {round(timeline.current_time)} beat: {beat_count}\\n\")\n",
    "    beat_count%=4\n",
    "\n",
    "    notes = iso.PSequence([1,3,2,4], repeats=1)\n",
    "\n",
    "    xxx= timeline.schedule (\n",
    "    {\"note\":notes.copy()+66\n",
    "     }\n",
    "        ,replace=True  #this is not working with version 0.1.1, only with github\n",
    "        ,name=\"blah\"  #this is not working with version 0.1.1, only with github\n",
    "    )    \n",
    "def beatNone():\n",
    "    global beat_count\n",
    "    global prev_time\n",
    "    beat_count+=1\n",
    "\n",
    "    diff_time=timeline.current_time-prev_time\n",
    "    prev_time=timeline.current_time\n",
    "    print(f\"diff:{diff_time}, timeXX: {timeline.current_time}, {round(timeline.current_time)} beat: {beat_count}\\n\")\n",
    "    beat_count%=4\n",
    "\n",
    "    notes = iso.PSequence([1,3,2,4], repeats=1)\n",
    "\n",
    "    xxx= timeline.schedule ()        \n",
    "#intialize with beat1    \n",
    "# beat=beat1\n",
    "beat= beatNone\n",
    "\n",
    "# Run main function beat with duration 4. This one is looping forever.\n",
    "timeline.background()\n",
    "timeline.schedule({\n",
    "    \"action\": lambda: beat(),\n",
    "    \"duration\":4\n",
    "})"
   ]
  },
  {
   "cell_type": "code",
   "execution_count": null,
   "id": "80a6382f-67c9-45ca-8ff6-398de82bfdcb",
   "metadata": {},
   "outputs": [],
   "source": [
    "timeline.stop()"
   ]
  }
 ],
 "metadata": {
  "kernelspec": {
   "display_name": "Python 3 (ipykernel)",
   "language": "python",
   "name": "python3"
  },
  "language_info": {
   "codemirror_mode": {
    "name": "ipython",
    "version": 3
   },
   "file_extension": ".py",
   "mimetype": "text/x-python",
   "name": "python",
   "nbconvert_exporter": "python",
   "pygments_lexer": "ipython3",
   "version": "3.9.12"
  }
 },
 "nbformat": 4,
 "nbformat_minor": 5
}
