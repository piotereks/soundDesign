{
 "cells": [
  {
   "cell_type": "code",
   "execution_count": 8,
   "id": "27fd18d7-1ac7-45b4-80ce-97f8168aca43",
   "metadata": {},
   "outputs": [
    {
     "name": "stdout",
     "output_type": "stream",
     "text": [
      "diff:4.000000000050932, timeXX: 358.6958333344492, 359 beat: 4\n",
      "\n",
      "diff:4.000000000050932, timeXX: 362.69583333450015, 363 beat: 1\n",
      "\n"
     ]
    }
   ],
   "source": [
    "timeline.background()"
   ]
  },
  {
   "cell_type": "code",
   "execution_count": 10,
   "id": "c1794c82-0f8f-48e3-a4b9-0a52ba99d797",
   "metadata": {},
   "outputs": [
    {
     "name": "stdout",
     "output_type": "stream",
     "text": [
      "diff:3.9999999999417923, timeXX: 1106.6979166610806, 1107 beat: 3\n",
      "\n"
     ]
    }
   ],
   "source": [
    "timeline.stop()"
   ]
  },
  {
   "cell_type": "code",
   "execution_count": 19,
   "id": "1e4b94d0-a234-4141-a62c-566010e643ca",
   "metadata": {},
   "outputs": [],
   "source": [
    "timeline.tracks.clear()"
   ]
  },
  {
   "cell_type": "code",
   "execution_count": 9,
   "id": "10c18326-21ce-43ad-9a80-7f164e362f27",
   "metadata": {},
   "outputs": [
    {
     "name": "stdout",
     "output_type": "stream",
     "text": [
      "diff:4.000000000050932, timeXX: 366.6958333345511, 367 beat: 2\n",
      "\n",
      "diff:4.000000000050932, timeXX: 370.695833334602, 371 beat: 3\n",
      "\n"
     ]
    },
    {
     "name": "stderr",
     "output_type": "stream",
     "text": [
      "Clock: Timer overflowed (late by 0.050s)\n"
     ]
    },
    {
     "name": "stdout",
     "output_type": "stream",
     "text": [
      "diff:4.000000000050932, timeXX: 374.69583333465295, 375 beat: 4\n",
      "\n",
      "diff:4.000000000050932, timeXX: 378.6958333347039, 379 beat: 1\n",
      "\n"
     ]
    },
    {
     "name": "stderr",
     "output_type": "stream",
     "text": [
      "Clock: Timer overflowed (late by 0.045s)\n",
      "Clock: Timer overflowed (late by 0.047s)\n",
      "Clock: Timer overflowed (late by 0.023s)\n"
     ]
    },
    {
     "name": "stdout",
     "output_type": "stream",
     "text": [
      "diff:4.000000000050932, timeXX: 382.6958333347548, 383 beat: 2\n",
      "\n",
      "diff:4.000000000050932, timeXX: 386.69583333480574, 387 beat: 3\n",
      "\n"
     ]
    },
    {
     "name": "stderr",
     "output_type": "stream",
     "text": [
      "Clock: Timer overflowed (late by 0.091s)\n"
     ]
    },
    {
     "name": "stdout",
     "output_type": "stream",
     "text": [
      "diff:4.000000000050932, timeXX: 390.6958333348567, 391 beat: 4\n",
      "\n"
     ]
    },
    {
     "name": "stderr",
     "output_type": "stream",
     "text": [
      "Clock: Timer overflowed (late by 0.027s)\n"
     ]
    },
    {
     "name": "stdout",
     "output_type": "stream",
     "text": [
      "diff:4.000000000050932, timeXX: 394.6958333349076, 395 beat: 1\n",
      "\n",
      "diff:4.000000000050932, timeXX: 398.69583333495854, 399 beat: 2\n",
      "\n",
      "diff:4.000000000050932, timeXX: 402.69583333500947, 403 beat: 3\n",
      "\n",
      "diff:4.000000000050932, timeXX: 406.6958333350604, 407 beat: 4\n",
      "\n",
      "diff:4.000000000050932, timeXX: 410.69583333511133, 411 beat: 1\n",
      "\n",
      "diff:4.000000000050932, timeXX: 414.69583333516226, 415 beat: 2\n",
      "\n",
      "diff:4.000000000050932, timeXX: 418.6958333352132, 419 beat: 3\n",
      "\n",
      "diff:4.000000000050932, timeXX: 422.6958333352641, 423 beat: 4\n",
      "\n",
      "diff:4.000000000050932, timeXX: 426.69583333531506, 427 beat: 1\n",
      "\n",
      "diff:4.000000000050932, timeXX: 430.695833335366, 431 beat: 2\n",
      "\n"
     ]
    },
    {
     "name": "stderr",
     "output_type": "stream",
     "text": [
      "Clock: Timer overflowed (late by 0.038s)\n"
     ]
    },
    {
     "name": "stdout",
     "output_type": "stream",
     "text": [
      "diff:4.000000000050932, timeXX: 434.6958333354169, 435 beat: 3\n",
      "\n",
      "diff:4.000000000050932, timeXX: 438.69583333546785, 439 beat: 4\n",
      "\n",
      "diff:4.000000000050932, timeXX: 442.6958333355188, 443 beat: 1\n",
      "\n",
      "diff:4.000000000050932, timeXX: 446.6958333355697, 447 beat: 2\n",
      "\n",
      "diff:4.000000000050932, timeXX: 450.69583333562065, 451 beat: 3\n",
      "\n",
      "diff:4.000000000050932, timeXX: 454.6958333356716, 455 beat: 4\n",
      "\n",
      "diff:4.000000000050932, timeXX: 458.6958333357225, 459 beat: 1\n",
      "\n",
      "diff:4.000000000050932, timeXX: 462.69583333577344, 463 beat: 2\n",
      "\n",
      "diff:4.000000000050932, timeXX: 466.6958333358244, 467 beat: 3\n",
      "\n",
      "diff:4.000000000050932, timeXX: 470.6958333358753, 471 beat: 4\n",
      "\n",
      "diff:4.000000000050932, timeXX: 474.69583333592624, 475 beat: 1\n",
      "\n",
      "diff:4.000000000050932, timeXX: 478.69583333597717, 479 beat: 2\n",
      "\n",
      "diff:4.000000000050932, timeXX: 482.6958333360281, 483 beat: 3\n",
      "\n",
      "diff:4.000000000050932, timeXX: 486.69583333607903, 487 beat: 4\n",
      "\n",
      "diff:4.000000000050932, timeXX: 490.69583333612997, 491 beat: 1\n",
      "\n",
      "diff:4.000000000050932, timeXX: 494.6958333361809, 495 beat: 2\n",
      "\n",
      "diff:4.000000000050932, timeXX: 498.69583333623183, 499 beat: 3\n",
      "\n"
     ]
    },
    {
     "name": "stderr",
     "output_type": "stream",
     "text": [
      "Clock: Timer overflowed (late by 0.022s)\n"
     ]
    },
    {
     "name": "stdout",
     "output_type": "stream",
     "text": [
      "diff:4.000000000050932, timeXX: 502.69583333628276, 503 beat: 4\n",
      "\n",
      "diff:4.000000000050932, timeXX: 506.6958333363337, 507 beat: 1\n",
      "\n",
      "diff:4.000000000050932, timeXX: 510.6958333363846, 511 beat: 2\n",
      "\n",
      "diff:3.9999999999773195, timeXX: 514.6958333363619, 515 beat: 3\n",
      "\n",
      "diff:3.9999999999417923, timeXX: 518.6958333363037, 519 beat: 4\n",
      "\n",
      "diff:3.9999999999417923, timeXX: 522.6958333362455, 523 beat: 1\n",
      "\n",
      "diff:3.9999999999417923, timeXX: 526.6958333361873, 527 beat: 2\n",
      "\n",
      "diff:3.9999999999417923, timeXX: 530.6958333361291, 531 beat: 3\n",
      "\n",
      "diff:3.9999999999417923, timeXX: 534.6958333360709, 535 beat: 4\n",
      "\n",
      "diff:3.9999999999417923, timeXX: 538.6958333360127, 539 beat: 1\n",
      "\n",
      "diff:3.9999999999417923, timeXX: 542.6958333359545, 543 beat: 2\n",
      "\n",
      "diff:3.9999999999417923, timeXX: 546.6958333358963, 547 beat: 3\n",
      "\n"
     ]
    },
    {
     "name": "stderr",
     "output_type": "stream",
     "text": [
      "Clock: Timer overflowed (late by 0.030s)\n"
     ]
    },
    {
     "name": "stdout",
     "output_type": "stream",
     "text": [
      "diff:3.9999999999417923, timeXX: 550.6958333358381, 551 beat: 4\n",
      "\n",
      "diff:3.9999999999417923, timeXX: 554.6958333357799, 555 beat: 1\n",
      "\n",
      "diff:3.9999999999417923, timeXX: 558.6958333357217, 559 beat: 2\n",
      "\n",
      "diff:3.9999999999417923, timeXX: 562.6958333356635, 563 beat: 3\n",
      "\n",
      "diff:3.9999999999417923, timeXX: 566.6958333356052, 567 beat: 4\n",
      "\n",
      "diff:3.9999999999417923, timeXX: 570.695833335547, 571 beat: 1\n",
      "\n",
      "diff:3.9999999999417923, timeXX: 574.6958333354888, 575 beat: 2\n",
      "\n",
      "diff:3.9999999999417923, timeXX: 578.6958333354306, 579 beat: 3\n",
      "\n",
      "diff:3.9999999999417923, timeXX: 582.6958333353724, 583 beat: 4\n",
      "\n"
     ]
    },
    {
     "name": "stderr",
     "output_type": "stream",
     "text": [
      "Clock: Timer overflowed (late by 0.030s)\n"
     ]
    },
    {
     "name": "stdout",
     "output_type": "stream",
     "text": [
      "diff:3.9999999999417923, timeXX: 586.6958333353142, 587 beat: 1\n",
      "\n",
      "diff:3.9999999999417923, timeXX: 590.695833335256, 591 beat: 2\n",
      "\n",
      "diff:3.9999999999417923, timeXX: 594.6958333351978, 595 beat: 3\n",
      "\n",
      "diff:3.9999999999417923, timeXX: 598.6958333351396, 599 beat: 4\n",
      "\n",
      "diff:3.9999999999417923, timeXX: 602.6958333350814, 603 beat: 1\n",
      "\n",
      "diff:3.9999999999417923, timeXX: 606.6958333350232, 607 beat: 2\n",
      "\n",
      "diff:3.9999999999417923, timeXX: 610.695833334965, 611 beat: 3\n",
      "\n",
      "diff:3.9999999999417923, timeXX: 614.6958333349068, 615 beat: 4\n",
      "\n",
      "diff:3.9999999999417923, timeXX: 618.6958333348485, 619 beat: 1\n",
      "\n"
     ]
    },
    {
     "name": "stderr",
     "output_type": "stream",
     "text": [
      "Clock: Timer overflowed (late by 0.027s)\n"
     ]
    },
    {
     "name": "stdout",
     "output_type": "stream",
     "text": [
      "diff:3.9999999999417923, timeXX: 622.6958333347903, 623 beat: 2\n",
      "\n",
      "diff:3.9999999999417923, timeXX: 626.6958333347321, 627 beat: 3\n",
      "\n",
      "diff:3.9999999999417923, timeXX: 630.6958333346739, 631 beat: 4\n",
      "\n",
      "diff:3.9999999999417923, timeXX: 634.6958333346157, 635 beat: 1\n",
      "\n",
      "diff:3.9999999999417923, timeXX: 638.6958333345575, 639 beat: 2\n",
      "\n",
      "diff:3.9999999999417923, timeXX: 642.6958333344993, 643 beat: 3\n",
      "\n",
      "diff:3.9999999999417923, timeXX: 646.6958333344411, 647 beat: 4\n",
      "\n",
      "diff:3.9999999999417923, timeXX: 650.6958333343829, 651 beat: 1\n",
      "\n",
      "diff:3.9999999999417923, timeXX: 654.6958333343247, 655 beat: 2\n",
      "\n",
      "diff:3.9999999999417923, timeXX: 658.6958333342665, 659 beat: 3\n",
      "\n",
      "diff:3.9999999999417923, timeXX: 662.6958333342083, 663 beat: 4\n",
      "\n"
     ]
    },
    {
     "name": "stderr",
     "output_type": "stream",
     "text": [
      "Clock: Timer overflowed (late by 0.033s)\n",
      "Clock: Timer overflowed (late by 0.021s)\n"
     ]
    },
    {
     "name": "stdout",
     "output_type": "stream",
     "text": [
      "diff:3.9999999999417923, timeXX: 666.69583333415, 667 beat: 1\n",
      "\n",
      "diff:3.9999999999417923, timeXX: 670.6958333340918, 671 beat: 2\n",
      "\n",
      "diff:3.9999999999417923, timeXX: 674.6958333340336, 675 beat: 3\n",
      "\n",
      "diff:3.9999999999417923, timeXX: 678.6958333339754, 679 beat: 4\n",
      "\n",
      "diff:3.9999999999417923, timeXX: 682.6958333339172, 683 beat: 1\n",
      "\n",
      "diff:3.9999999999417923, timeXX: 686.695833333859, 687 beat: 2\n",
      "\n",
      "diff:3.9999999999417923, timeXX: 690.6958333338008, 691 beat: 3\n",
      "\n",
      "diff:3.9999999999417923, timeXX: 694.6958333337426, 695 beat: 4\n",
      "\n",
      "diff:3.9999999999417923, timeXX: 698.6958333336844, 699 beat: 1\n",
      "\n",
      "diff:3.9999999999417923, timeXX: 702.6958333336262, 703 beat: 2\n",
      "\n",
      "diff:3.9999999999417923, timeXX: 706.695833333568, 707 beat: 3\n",
      "\n",
      "diff:3.9999999999417923, timeXX: 710.6958333335098, 711 beat: 4\n",
      "\n",
      "diff:3.9999999999417923, timeXX: 714.6958333334516, 715 beat: 1\n",
      "\n"
     ]
    },
    {
     "name": "stderr",
     "output_type": "stream",
     "text": [
      "Clock: Timer overflowed (late by 0.037s)\n"
     ]
    },
    {
     "name": "stdout",
     "output_type": "stream",
     "text": [
      "diff:3.9999999999417923, timeXX: 718.6958333333934, 719 beat: 2\n",
      "\n",
      "diff:3.9999999999417923, timeXX: 722.6958333333351, 723 beat: 3\n",
      "\n",
      "diff:3.9999999999417923, timeXX: 726.6958333332769, 727 beat: 4\n",
      "\n",
      "diff:3.9999999999417923, timeXX: 730.6958333332187, 731 beat: 1\n",
      "\n",
      "diff:3.9999999999417923, timeXX: 734.6958333331605, 735 beat: 2\n",
      "\n",
      "diff:3.9999999999417923, timeXX: 738.6958333331023, 739 beat: 3\n",
      "\n",
      "diff:3.9999999999417923, timeXX: 742.6958333330441, 743 beat: 4\n",
      "\n",
      "diff:3.9999999999417923, timeXX: 746.6958333329859, 747 beat: 1\n",
      "\n",
      "diff:3.9999999999417923, timeXX: 750.6958333329277, 751 beat: 2\n",
      "\n",
      "diff:3.9999999999417923, timeXX: 754.6958333328695, 755 beat: 3\n",
      "\n",
      "diff:3.9999999999417923, timeXX: 758.6958333328113, 759 beat: 4\n",
      "\n",
      "diff:3.9999999999417923, timeXX: 762.6958333327531, 763 beat: 1\n",
      "\n",
      "diff:3.9999999999417923, timeXX: 766.6958333326949, 767 beat: 2\n",
      "\n",
      "diff:3.9999999999417923, timeXX: 770.6958333326367, 771 beat: 3\n",
      "\n"
     ]
    },
    {
     "name": "stderr",
     "output_type": "stream",
     "text": [
      "Clock: Timer overflowed (late by 0.030s)\n"
     ]
    },
    {
     "name": "stdout",
     "output_type": "stream",
     "text": [
      "diff:3.9999999999417923, timeXX: 774.6958333325784, 775 beat: 4\n",
      "\n",
      "diff:3.9999999999417923, timeXX: 778.6958333325202, 779 beat: 1\n",
      "\n",
      "diff:3.9999999999417923, timeXX: 782.695833332462, 783 beat: 2\n",
      "\n",
      "diff:3.9999999999417923, timeXX: 786.6958333324038, 787 beat: 3\n",
      "\n",
      "diff:3.9999999999417923, timeXX: 790.6958333323456, 791 beat: 4\n",
      "\n",
      "diff:3.9999999999417923, timeXX: 794.6958333322874, 795 beat: 1\n",
      "\n",
      "diff:3.9999999999417923, timeXX: 798.6958333322292, 799 beat: 2\n",
      "\n",
      "diff:3.9999999999417923, timeXX: 802.695833332171, 803 beat: 3\n",
      "\n",
      "diff:3.9999999999417923, timeXX: 806.6958333321128, 807 beat: 4\n",
      "\n"
     ]
    },
    {
     "name": "stderr",
     "output_type": "stream",
     "text": [
      "Clock: Timer overflowed (late by 0.021s)\n",
      "Clock: Timer overflowed (late by 0.032s)\n"
     ]
    },
    {
     "name": "stdout",
     "output_type": "stream",
     "text": [
      "diff:3.9999999999417923, timeXX: 810.6958333320546, 811 beat: 1\n",
      "\n",
      "diff:3.9999999999417923, timeXX: 814.6958333319964, 815 beat: 2\n",
      "\n"
     ]
    },
    {
     "name": "stderr",
     "output_type": "stream",
     "text": [
      "Clock: Timer overflowed (late by 0.030s)\n"
     ]
    },
    {
     "name": "stdout",
     "output_type": "stream",
     "text": [
      "diff:3.9999999999417923, timeXX: 818.6958333319382, 819 beat: 3\n",
      "\n",
      "diff:3.9999999999417923, timeXX: 822.69583333188, 823 beat: 4\n",
      "\n",
      "diff:3.9999999999417923, timeXX: 826.6958333318217, 827 beat: 1\n",
      "\n"
     ]
    },
    {
     "name": "stderr",
     "output_type": "stream",
     "text": [
      "Clock: Timer overflowed (late by 0.040s)\n"
     ]
    },
    {
     "name": "stdout",
     "output_type": "stream",
     "text": [
      "diff:3.9999999999417923, timeXX: 830.6958333317635, 831 beat: 2\n",
      "\n",
      "diff:3.9999999999417923, timeXX: 834.6958333317053, 835 beat: 3\n",
      "\n",
      "diff:3.9999999999417923, timeXX: 838.6958333316471, 839 beat: 4\n",
      "\n",
      "diff:3.9999999999417923, timeXX: 842.6958333315889, 843 beat: 1\n",
      "\n",
      "diff:3.9999999999417923, timeXX: 846.6958333315307, 847 beat: 2\n",
      "\n",
      "diff:3.9999999999417923, timeXX: 850.6958333314725, 851 beat: 3\n",
      "\n",
      "diff:3.9999999999417923, timeXX: 854.6958333314143, 855 beat: 4\n",
      "\n",
      "diff:3.9999999999417923, timeXX: 858.6958333313561, 859 beat: 1\n",
      "\n",
      "diff:3.9999999999417923, timeXX: 862.6958333312979, 863 beat: 2\n",
      "\n",
      "diff:3.9999999999417923, timeXX: 866.6958333312397, 867 beat: 3\n",
      "\n",
      "diff:3.9999999999417923, timeXX: 870.6958333311815, 871 beat: 4\n",
      "\n",
      "diff:3.9999999999417923, timeXX: 874.6958333311233, 875 beat: 1\n",
      "\n",
      "diff:3.9999999999417923, timeXX: 878.695833331065, 879 beat: 2\n",
      "\n",
      "diff:3.9999999999417923, timeXX: 882.6958333310068, 883 beat: 3\n",
      "\n",
      "diff:3.9999999999417923, timeXX: 886.6958333309486, 887 beat: 4\n",
      "\n"
     ]
    },
    {
     "name": "stderr",
     "output_type": "stream",
     "text": [
      "Clock: Timer overflowed (late by 0.021s)\n",
      "Clock: Timer overflowed (late by 0.042s)\n"
     ]
    },
    {
     "name": "stdout",
     "output_type": "stream",
     "text": [
      "diff:3.9999999999417923, timeXX: 890.6958333308904, 891 beat: 1\n",
      "\n",
      "diff:3.9999999999417923, timeXX: 894.6958333308322, 895 beat: 2\n",
      "\n",
      "diff:3.9999999999417923, timeXX: 898.695833330774, 899 beat: 3\n",
      "\n",
      "diff:3.9999999999417923, timeXX: 902.6958333307158, 903 beat: 4\n",
      "\n"
     ]
    },
    {
     "name": "stderr",
     "output_type": "stream",
     "text": [
      "Clock: Timer overflowed (late by 0.022s)\n"
     ]
    },
    {
     "name": "stdout",
     "output_type": "stream",
     "text": [
      "diff:3.9999999999417923, timeXX: 906.6958333306576, 907 beat: 1\n",
      "\n",
      "diff:3.9999999999417923, timeXX: 910.6958333305994, 911 beat: 2\n",
      "\n"
     ]
    },
    {
     "name": "stderr",
     "output_type": "stream",
     "text": [
      "Clock: Timer overflowed (late by 0.048s)\n"
     ]
    },
    {
     "name": "stdout",
     "output_type": "stream",
     "text": [
      "diff:3.9999999999417923, timeXX: 914.6958333305412, 915 beat: 3\n",
      "\n",
      "diff:3.9999999999417923, timeXX: 918.695833330483, 919 beat: 4\n",
      "\n"
     ]
    },
    {
     "name": "stderr",
     "output_type": "stream",
     "text": [
      "Clock: Timer overflowed (late by 0.038s)\n"
     ]
    },
    {
     "name": "stdout",
     "output_type": "stream",
     "text": [
      "diff:3.9999999999417923, timeXX: 922.6958333304248, 923 beat: 1\n",
      "\n",
      "diff:3.9999999999417923, timeXX: 926.6958333303666, 927 beat: 2\n",
      "\n",
      "diff:3.9999999999417923, timeXX: 930.6958333303083, 931 beat: 3\n",
      "\n",
      "diff:3.9999999999417923, timeXX: 934.6958333302501, 935 beat: 4\n",
      "\n",
      "diff:3.9999999999417923, timeXX: 938.6958333301919, 939 beat: 1\n",
      "\n",
      "diff:3.9999999999417923, timeXX: 942.6958333301337, 943 beat: 2\n",
      "\n",
      "diff:3.9999999999417923, timeXX: 946.6958333300755, 947 beat: 3\n",
      "\n"
     ]
    },
    {
     "name": "stderr",
     "output_type": "stream",
     "text": [
      "Clock: Timer overflowed (late by 0.030s)\n"
     ]
    },
    {
     "name": "stdout",
     "output_type": "stream",
     "text": [
      "diff:3.9999999999417923, timeXX: 950.6958333300173, 951 beat: 4\n",
      "\n",
      "diff:3.9999999999417923, timeXX: 954.6958333299591, 955 beat: 1\n",
      "\n",
      "diff:3.9999999999417923, timeXX: 958.6958333299009, 959 beat: 2\n",
      "\n",
      "diff:3.9999999999417923, timeXX: 962.6958333298427, 963 beat: 3\n",
      "\n",
      "diff:3.9999999999417923, timeXX: 966.6958333297845, 967 beat: 4\n",
      "\n",
      "diff:3.9999999999417923, timeXX: 970.6958333297263, 971 beat: 1\n",
      "\n"
     ]
    },
    {
     "name": "stderr",
     "output_type": "stream",
     "text": [
      "Clock: Timer overflowed (late by 0.028s)\n",
      "Clock: Timer overflowed (late by 0.025s)\n"
     ]
    },
    {
     "name": "stdout",
     "output_type": "stream",
     "text": [
      "diff:3.9999999999417923, timeXX: 974.6958333296681, 975 beat: 2\n",
      "\n",
      "diff:3.9999999999417923, timeXX: 978.6958333296099, 979 beat: 3\n",
      "\n"
     ]
    },
    {
     "name": "stderr",
     "output_type": "stream",
     "text": [
      "Clock: Timer overflowed (late by 0.032s)\n"
     ]
    },
    {
     "name": "stdout",
     "output_type": "stream",
     "text": [
      "diff:3.9999999999417923, timeXX: 982.6958333295516, 983 beat: 4\n",
      "\n"
     ]
    },
    {
     "name": "stderr",
     "output_type": "stream",
     "text": [
      "Clock: Timer overflowed (late by 0.026s)\n"
     ]
    },
    {
     "name": "stdout",
     "output_type": "stream",
     "text": [
      "diff:3.9999999999417923, timeXX: 986.6958333294934, 987 beat: 1\n",
      "\n"
     ]
    },
    {
     "name": "stderr",
     "output_type": "stream",
     "text": [
      "Clock: Timer overflowed (late by 0.022s)\n"
     ]
    },
    {
     "name": "stdout",
     "output_type": "stream",
     "text": [
      "diff:3.9999999999417923, timeXX: 990.6958333294352, 991 beat: 2\n",
      "\n",
      "diff:3.9999999999417923, timeXX: 994.695833329377, 995 beat: 3\n",
      "\n",
      "diff:3.9999999999417923, timeXX: 998.6958333293188, 999 beat: 4\n",
      "\n",
      "diff:3.9999999999417923, timeXX: 1002.6958333292606, 1003 beat: 1\n",
      "\n",
      "diff:3.9999999999417923, timeXX: 1006.6958333292024, 1007 beat: 2\n",
      "\n",
      "diff:3.9999999999417923, timeXX: 1010.6958333291442, 1011 beat: 3\n",
      "\n"
     ]
    },
    {
     "name": "stderr",
     "output_type": "stream",
     "text": [
      "Clock: Timer overflowed (late by 0.034s)\n",
      "Clock: Timer overflowed (late by 0.031s)\n"
     ]
    },
    {
     "name": "stdout",
     "output_type": "stream",
     "text": [
      "diff:3.9999999999417923, timeXX: 1014.695833329086, 1015 beat: 4\n",
      "\n",
      "diff:3.9999999999417923, timeXX: 1018.6958333290278, 1019 beat: 1\n",
      "\n",
      "diff:3.9999999999417923, timeXX: 1022.6958333289696, 1023 beat: 2\n",
      "\n",
      "diff:3.999999999941906, timeXX: 1026.6958333289115, 1027 beat: 3\n",
      "\n",
      "diff:3.9999999999417923, timeXX: 1030.6958333288533, 1031 beat: 4\n",
      "\n"
     ]
    },
    {
     "name": "stderr",
     "output_type": "stream",
     "text": [
      "Clock: Timer overflowed (late by 0.026s)\n"
     ]
    },
    {
     "name": "stdout",
     "output_type": "stream",
     "text": [
      "diff:3.9999999999417923, timeXX: 1034.695833328795, 1035 beat: 1\n",
      "\n",
      "diff:3.9999999999417923, timeXX: 1038.6958333287369, 1039 beat: 2\n",
      "\n",
      "diff:3.9999999999417923, timeXX: 1042.6958333286786, 1043 beat: 3\n",
      "\n",
      "diff:3.9999999999417923, timeXX: 1046.6958333286204, 1047 beat: 4\n",
      "\n",
      "diff:3.9999999999417923, timeXX: 1050.6958333285622, 1051 beat: 1\n",
      "\n",
      "diff:3.9999999999417923, timeXX: 1054.695833328504, 1055 beat: 2\n",
      "\n",
      "diff:3.9999999999417923, timeXX: 1058.6958333284458, 1059 beat: 3\n",
      "\n",
      "diff:3.9999999999417923, timeXX: 1062.6958333283876, 1063 beat: 4\n",
      "\n",
      "diff:3.9999999999417923, timeXX: 1066.6958333283294, 1067 beat: 1\n",
      "\n",
      "diff:3.9999999999417923, timeXX: 1070.6958333282712, 1071 beat: 2\n",
      "\n",
      "diff:3.9999999999417923, timeXX: 1074.695833328213, 1075 beat: 3\n",
      "\n",
      "diff:4.002083333275095, timeXX: 1078.697916661488, 1079 beat: 4\n",
      "\n",
      "diff:3.9999999999417923, timeXX: 1082.6979166614299, 1083 beat: 1\n",
      "\n",
      "diff:3.9999999999417923, timeXX: 1086.6979166613717, 1087 beat: 2\n",
      "\n",
      "diff:3.9999999999417923, timeXX: 1090.6979166613135, 1091 beat: 3\n",
      "\n"
     ]
    },
    {
     "name": "stderr",
     "output_type": "stream",
     "text": [
      "Clock: Timer overflowed (late by 0.047s)\n",
      "Clock: Timer overflowed (late by 0.051s)\n",
      "Clock: Timer overflowed (late by 0.023s)\n",
      "Clock: Timer overflowed (late by 0.051s)\n"
     ]
    },
    {
     "name": "stdout",
     "output_type": "stream",
     "text": [
      "diff:3.9999999999417923, timeXX: 1094.6979166612552, 1095 beat: 4\n",
      "\n"
     ]
    },
    {
     "name": "stderr",
     "output_type": "stream",
     "text": [
      "Clock: Timer overflowed (late by 0.085s)\n",
      "Clock: Timer overflowed (late by 0.034s)\n",
      "Clock: Timer overflowed (late by 0.045s)\n"
     ]
    },
    {
     "name": "stdout",
     "output_type": "stream",
     "text": [
      "diff:3.9999999999417923, timeXX: 1098.697916661197, 1099 beat: 1\n",
      "\n"
     ]
    },
    {
     "name": "stderr",
     "output_type": "stream",
     "text": [
      "Clock: Timer overflowed (late by 0.026s)\n",
      "Clock: Timer overflowed (late by 0.088s)\n",
      "Clock: Timer overflowed (late by 0.020s)\n",
      "Clock: Timer overflowed (late by 0.039s)\n"
     ]
    },
    {
     "name": "stdout",
     "output_type": "stream",
     "text": [
      "diff:3.9999999999417923, timeXX: 1102.6979166611388, 1103 beat: 2\n",
      "\n"
     ]
    }
   ],
   "source": [
    "beat=beat2"
   ]
  },
  {
   "cell_type": "code",
   "execution_count": null,
   "id": "37046063-556c-4d1b-993b-8b286b8ba873",
   "metadata": {},
   "outputs": [],
   "source": []
  }
 ],
 "metadata": {
  "kernelspec": {
   "display_name": "Python 3 (ipykernel)",
   "language": "python",
   "name": "python3"
  },
  "language_info": {
   "codemirror_mode": {
    "name": "ipython",
    "version": 3
   },
   "file_extension": ".py",
   "mimetype": "text/x-python",
   "name": "python",
   "nbconvert_exporter": "python",
   "pygments_lexer": "ipython3",
   "version": "3.9.12"
  }
 },
 "nbformat": 4,
 "nbformat_minor": 5
}
