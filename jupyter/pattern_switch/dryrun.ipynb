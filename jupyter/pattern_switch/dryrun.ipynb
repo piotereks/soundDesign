{
 "cells": [
  {
   "cell_type": "code",
   "execution_count": 8,
   "id": "27fd18d7-1ac7-45b4-80ce-97f8168aca43",
   "metadata": {},
   "outputs": [
    {
     "name": "stdout",
     "output_type": "stream",
     "text": [
      "diff:4.000000000050932, timeXX: 358.6958333344492, 359 beat: 4\n",
      "\n",
      "diff:4.000000000050932, timeXX: 362.69583333450015, 363 beat: 1\n",
      "\n"
     ]
    }
   ],
   "source": [
    "timeline.background()"
   ]
  },
  {
   "cell_type": "code",
   "execution_count": 4,
   "id": "c1794c82-0f8f-48e3-a4b9-0a52ba99d797",
   "metadata": {},
   "outputs": [
    {
     "name": "stderr",
     "output_type": "stream",
     "text": [
      "Clock: Timer overflowed (late by 0.024s)\n",
      "Clock: Timer overflowed (late by 0.059s)\n",
      "Clock: Timer overflowed (late by 0.074s)\n",
      "Clock: Timer overflowed (late by 0.069s)\n",
      "Clock: Timer overflowed (late by 0.056s)\n",
      "Clock: Timer overflowed (late by 0.033s)\n"
     ]
    }
   ],
   "source": [
    "timeline.stop()"
   ]
  },
  {
   "cell_type": "code",
   "execution_count": 19,
   "id": "1e4b94d0-a234-4141-a62c-566010e643ca",
   "metadata": {},
   "outputs": [],
   "source": [
    "timeline.tracks.clear()"
   ]
  },
  {
   "cell_type": "code",
   "execution_count": 3,
   "id": "10c18326-21ce-43ad-9a80-7f164e362f27",
   "metadata": {},
   "outputs": [
    {
     "name": "stdout",
     "output_type": "stream",
     "text": [
      "diff:3.999999999996362, timeYY: 113.9208333332708, 114 beat: 4\n",
      "\n",
      "diff:3.999999999996362, timeYY: 117.92083333326717, 118 beat: 1\n",
      "\n"
     ]
    },
    {
     "name": "stderr",
     "output_type": "stream",
     "text": [
      "Clock: Timer overflowed (late by 0.062s)\n",
      "Clock: Timer overflowed (late by 0.025s)\n",
      "Clock: Timer overflowed (late by 0.036s)\n",
      "Clock: Timer overflowed (late by 0.059s)\n"
     ]
    },
    {
     "name": "stdout",
     "output_type": "stream",
     "text": [
      "diff:3.999999999996362, timeYY: 121.92083333326353, 122 beat: 2\n",
      "\n",
      "diff:3.999999999996362, timeYY: 125.92083333325989, 126 beat: 3\n",
      "\n",
      "diff:3.9999999999963762, timeYY: 129.92083333325627, 130 beat: 4\n",
      "\n",
      "diff:3.999999999996362, timeYY: 133.92083333325263, 134 beat: 1\n",
      "\n"
     ]
    },
    {
     "name": "stderr",
     "output_type": "stream",
     "text": [
      "Clock: Timer overflowed (late by 0.031s)\n"
     ]
    },
    {
     "name": "stdout",
     "output_type": "stream",
     "text": [
      "diff:3.999999999996362, timeYY: 137.920833333249, 138 beat: 2\n",
      "\n",
      "diff:3.999999999996362, timeYY: 141.92083333324535, 142 beat: 3\n",
      "\n",
      "diff:3.999999999996362, timeYY: 145.92083333324172, 146 beat: 4\n",
      "\n",
      "diff:3.999999999996362, timeYY: 149.92083333323808, 150 beat: 1\n",
      "\n",
      "diff:3.999999999996362, timeYY: 153.92083333323444, 154 beat: 2\n",
      "\n",
      "diff:3.999999999996362, timeYY: 157.9208333332308, 158 beat: 3\n",
      "\n"
     ]
    },
    {
     "name": "stderr",
     "output_type": "stream",
     "text": [
      "Clock: Timer overflowed (late by 0.035s)\n",
      "Clock: Timer overflowed (late by 0.033s)\n",
      "Clock: Timer overflowed (late by 0.033s)\n",
      "Clock: Timer overflowed (late by 0.028s)\n",
      "Clock: Timer overflowed (late by 0.026s)\n"
     ]
    },
    {
     "name": "stdout",
     "output_type": "stream",
     "text": [
      "diff:3.999999999996362, timeYY: 161.92083333322716, 162 beat: 4\n",
      "\n",
      "diff:3.999999999996362, timeYY: 165.92083333322353, 166 beat: 1\n",
      "\n"
     ]
    },
    {
     "name": "stderr",
     "output_type": "stream",
     "text": [
      "Clock: Timer overflowed (late by 0.036s)\n",
      "Clock: Timer overflowed (late by 0.024s)\n",
      "Clock: Timer overflowed (late by 0.048s)\n",
      "Clock: Timer overflowed (late by 0.037s)\n",
      "Clock: Timer overflowed (late by 0.051s)\n",
      "Clock: Timer overflowed (late by 0.023s)\n"
     ]
    },
    {
     "name": "stdout",
     "output_type": "stream",
     "text": [
      "diff:3.999999999996362, timeYY: 169.9208333332199, 170 beat: 2\n",
      "\n"
     ]
    },
    {
     "name": "stderr",
     "output_type": "stream",
     "text": [
      "Clock: Timer overflowed (late by 0.027s)\n"
     ]
    },
    {
     "name": "stdout",
     "output_type": "stream",
     "text": [
      "diff:3.999999999996362, timeYY: 173.92083333321625, 174 beat: 3\n",
      "\n",
      "diff:3.999999999996362, timeYY: 177.9208333332126, 178 beat: 4\n",
      "\n",
      "diff:3.999999999996362, timeYY: 181.92083333320898, 182 beat: 1\n",
      "\n",
      "diff:3.999999999996362, timeYY: 185.92083333320534, 186 beat: 2\n",
      "\n",
      "diff:3.999999999996362, timeYY: 189.9208333332017, 190 beat: 3\n",
      "\n",
      "diff:3.999999999996362, timeYY: 193.92083333319806, 194 beat: 4\n",
      "\n",
      "diff:3.999999999996362, timeYY: 197.92083333319442, 198 beat: 1\n",
      "\n"
     ]
    },
    {
     "name": "stderr",
     "output_type": "stream",
     "text": [
      "Clock: Timer overflowed (late by 0.039s)\n",
      "Clock: Timer overflowed (late by 0.027s)\n"
     ]
    },
    {
     "name": "stdout",
     "output_type": "stream",
     "text": [
      "diff:3.999999999996362, timeYY: 201.92083333319079, 202 beat: 2\n",
      "\n"
     ]
    },
    {
     "name": "stderr",
     "output_type": "stream",
     "text": [
      "Clock: Timer overflowed (late by 0.038s)\n",
      "Clock: Timer overflowed (late by 0.043s)\n",
      "Clock: Timer overflowed (late by 0.081s)\n",
      "Clock: Timer overflowed (late by 0.040s)\n",
      "Clock: Timer overflowed (late by 0.066s)\n"
     ]
    },
    {
     "name": "stdout",
     "output_type": "stream",
     "text": [
      "diff:3.999999999996362, timeYY: 205.92083333318715, 206 beat: 3\n",
      "\n"
     ]
    },
    {
     "name": "stderr",
     "output_type": "stream",
     "text": [
      "Clock: Timer overflowed (late by 0.021s)\n"
     ]
    },
    {
     "name": "stdout",
     "output_type": "stream",
     "text": [
      "diff:3.999999999996362, timeYY: 209.9208333331835, 210 beat: 4\n",
      "\n",
      "diff:3.999999999996362, timeYY: 213.92083333317987, 214 beat: 1\n",
      "\n",
      "diff:3.999999999996362, timeYY: 217.92083333317623, 218 beat: 2\n",
      "\n",
      "diff:3.999999999996362, timeYY: 221.9208333331726, 222 beat: 3\n",
      "\n",
      "diff:3.999999999996362, timeYY: 225.92083333316896, 226 beat: 4\n",
      "\n"
     ]
    },
    {
     "name": "stderr",
     "output_type": "stream",
     "text": [
      "Clock: Timer overflowed (late by 0.023s)\n"
     ]
    },
    {
     "name": "stdout",
     "output_type": "stream",
     "text": [
      "diff:3.999999999996362, timeYY: 229.92083333316532, 230 beat: 1\n",
      "\n",
      "diff:3.999999999996362, timeYY: 233.92083333316168, 234 beat: 2\n",
      "\n",
      "diff:3.999999999996362, timeYY: 237.92083333315804, 238 beat: 3\n",
      "\n",
      "diff:3.999999999996362, timeYY: 241.9208333331544, 242 beat: 4\n",
      "\n",
      "diff:3.999999999996362, timeYY: 245.92083333315077, 246 beat: 1\n",
      "\n",
      "diff:3.999999999996362, timeYY: 249.92083333314713, 250 beat: 2\n",
      "\n",
      "diff:3.999999999996362, timeYY: 253.9208333331435, 254 beat: 3\n",
      "\n",
      "diff:4.000000000022567, timeYY: 257.92083333316606, 258 beat: 4\n",
      "\n"
     ]
    },
    {
     "name": "stderr",
     "output_type": "stream",
     "text": [
      "Clock: Timer overflowed (late by 0.038s)\n"
     ]
    },
    {
     "name": "stdout",
     "output_type": "stream",
     "text": [
      "diff:4.000000000050932, timeYY: 261.920833333217, 262 beat: 1\n",
      "\n",
      "diff:4.000000000050932, timeYY: 265.9208333332679, 266 beat: 2\n",
      "\n"
     ]
    },
    {
     "name": "stderr",
     "output_type": "stream",
     "text": [
      "Clock: Timer overflowed (late by 0.026s)\n",
      "Clock: Timer overflowed (late by 0.035s)\n",
      "Clock: Timer overflowed (late by 0.032s)\n",
      "Clock: Timer overflowed (late by 0.039s)\n",
      "Clock: Timer overflowed (late by 0.037s)\n",
      "Clock: Timer overflowed (late by 0.043s)\n",
      "Clock: Timer overflowed (late by 0.046s)\n",
      "Clock: Timer overflowed (late by 0.081s)\n",
      "Clock: Timer overflowed (late by 0.064s)\n",
      "Clock: Timer overflowed (late by 0.022s)\n"
     ]
    },
    {
     "name": "stdout",
     "output_type": "stream",
     "text": [
      "diff:4.000000000050932, timeYY: 269.92083333331885, 270 beat: 3\n",
      "\n"
     ]
    },
    {
     "name": "stderr",
     "output_type": "stream",
     "text": [
      "Clock: Timer overflowed (late by 0.026s)\n",
      "Clock: Timer overflowed (late by 0.021s)\n",
      "Clock: Timer overflowed (late by 0.038s)\n",
      "Clock: Timer overflowed (late by 0.026s)\n"
     ]
    },
    {
     "name": "stdout",
     "output_type": "stream",
     "text": [
      "diff:4.000000000050932, timeYY: 273.9208333333698, 274 beat: 4\n",
      "\n",
      "diff:4.000000000050932, timeYY: 277.9208333334207, 278 beat: 1\n",
      "\n",
      "diff:4.000000000050932, timeYY: 281.92083333347165, 282 beat: 2\n",
      "\n",
      "diff:4.000000000050932, timeYY: 285.9208333335226, 286 beat: 3\n",
      "\n",
      "diff:4.000000000050932, timeYY: 289.9208333335735, 290 beat: 4\n",
      "\n"
     ]
    },
    {
     "name": "stderr",
     "output_type": "stream",
     "text": [
      "Clock: Timer overflowed (late by 0.022s)\n",
      "Clock: Timer overflowed (late by 0.026s)\n",
      "Clock: Timer overflowed (late by 0.030s)\n",
      "Clock: Timer overflowed (late by 0.041s)\n",
      "Clock: Timer overflowed (late by 0.069s)\n"
     ]
    },
    {
     "name": "stdout",
     "output_type": "stream",
     "text": [
      "diff:4.000000000050932, timeYY: 293.92083333362444, 294 beat: 1\n",
      "\n",
      "diff:4.000000000050932, timeYY: 297.9208333336754, 298 beat: 2\n",
      "\n"
     ]
    },
    {
     "name": "stderr",
     "output_type": "stream",
     "text": [
      "Clock: Timer overflowed (late by 0.021s)\n"
     ]
    },
    {
     "name": "stdout",
     "output_type": "stream",
     "text": [
      "diff:4.000000000050932, timeYY: 301.9208333337263, 302 beat: 3\n",
      "\n",
      "diff:4.000000000050932, timeYY: 305.92083333377724, 306 beat: 4\n",
      "\n",
      "diff:4.000000000050932, timeYY: 309.92083333382817, 310 beat: 1\n",
      "\n",
      "diff:4.000000000050932, timeYY: 313.9208333338791, 314 beat: 2\n",
      "\n",
      "diff:4.000000000050932, timeYY: 317.92083333393003, 318 beat: 3\n",
      "\n",
      "diff:4.000000000050932, timeYY: 321.92083333398097, 322 beat: 4\n",
      "\n",
      "diff:4.000000000050932, timeYY: 325.9208333340319, 326 beat: 1\n",
      "\n",
      "diff:4.000000000050932, timeYY: 329.92083333408283, 330 beat: 2\n",
      "\n"
     ]
    },
    {
     "name": "stderr",
     "output_type": "stream",
     "text": [
      "Clock: Timer overflowed (late by 0.023s)\n",
      "Clock: Timer overflowed (late by 0.034s)\n",
      "Clock: Timer overflowed (late by 0.023s)\n"
     ]
    },
    {
     "name": "stdout",
     "output_type": "stream",
     "text": [
      "diff:4.000000000050932, timeYY: 333.92083333413376, 334 beat: 3\n",
      "\n",
      "diff:4.000000000050932, timeYY: 337.9208333341847, 338 beat: 4\n",
      "\n"
     ]
    },
    {
     "name": "stderr",
     "output_type": "stream",
     "text": [
      "Clock: Timer overflowed (late by 0.057s)\n",
      "Clock: Timer overflowed (late by 0.022s)\n",
      "Clock: Timer overflowed (late by 0.047s)\n",
      "Clock: Timer overflowed (late by 0.120s)\n",
      "Clock: Timer overflowed (late by 0.037s)\n",
      "Clock: Timer overflowed (late by 0.032s)\n",
      "Clock: Timer overflowed (late by 0.030s)\n",
      "Clock: Timer overflowed (late by 0.034s)\n"
     ]
    },
    {
     "name": "stdout",
     "output_type": "stream",
     "text": [
      "diff:4.000000000050932, timeYY: 341.9208333342356, 342 beat: 1\n",
      "\n"
     ]
    },
    {
     "name": "stderr",
     "output_type": "stream",
     "text": [
      "Clock: Timer overflowed (late by 0.032s)\n",
      "Clock: Timer overflowed (late by 0.053s)\n",
      "Clock: Timer overflowed (late by 0.040s)\n"
     ]
    },
    {
     "name": "stdout",
     "output_type": "stream",
     "text": [
      "diff:4.000000000050932, timeYY: 345.92083333428656, 346 beat: 2\n",
      "\n"
     ]
    },
    {
     "name": "stderr",
     "output_type": "stream",
     "text": [
      "Clock: Timer overflowed (late by 0.025s)\n",
      "Clock: Timer overflowed (late by 0.020s)\n"
     ]
    },
    {
     "name": "stdout",
     "output_type": "stream",
     "text": [
      "diff:4.000000000050932, timeYY: 349.9208333343375, 350 beat: 3\n",
      "\n"
     ]
    },
    {
     "name": "stderr",
     "output_type": "stream",
     "text": [
      "Clock: Timer overflowed (late by 0.024s)\n",
      "Clock: Timer overflowed (late by 0.023s)\n",
      "Clock: Timer overflowed (late by 0.021s)\n",
      "Clock: Timer overflowed (late by 0.028s)\n"
     ]
    },
    {
     "name": "stdout",
     "output_type": "stream",
     "text": [
      "diff:4.000000000050932, timeYY: 353.9208333343884, 354 beat: 4\n",
      "\n",
      "diff:4.000000000050932, timeYY: 357.92083333443935, 358 beat: 1\n",
      "\n"
     ]
    },
    {
     "name": "stderr",
     "output_type": "stream",
     "text": [
      "Clock: Timer overflowed (late by 0.029s)\n",
      "Clock: Timer overflowed (late by 0.021s)\n"
     ]
    },
    {
     "name": "stdout",
     "output_type": "stream",
     "text": [
      "diff:4.000000000050932, timeYY: 361.9208333344903, 362 beat: 2\n",
      "\n",
      "diff:4.000000000050932, timeYY: 365.9208333345412, 366 beat: 3\n",
      "\n",
      "diff:4.000000000050932, timeYY: 369.92083333459215, 370 beat: 4\n",
      "\n",
      "diff:4.000000000050932, timeYY: 373.9208333346431, 374 beat: 1\n",
      "\n",
      "diff:4.000000000050932, timeYY: 377.920833334694, 378 beat: 2\n",
      "\n",
      "diff:4.000000000050932, timeYY: 381.92083333474494, 382 beat: 3\n",
      "\n"
     ]
    },
    {
     "name": "stderr",
     "output_type": "stream",
     "text": [
      "Clock: Timer overflowed (late by 0.021s)\n"
     ]
    },
    {
     "name": "stdout",
     "output_type": "stream",
     "text": [
      "diff:4.000000000050932, timeYY: 385.9208333347959, 386 beat: 4\n",
      "\n",
      "diff:4.000000000050932, timeYY: 389.9208333348468, 390 beat: 1\n",
      "\n",
      "diff:4.000000000050932, timeYY: 393.92083333489774, 394 beat: 2\n",
      "\n",
      "diff:4.000000000050932, timeYY: 397.92083333494867, 398 beat: 3\n",
      "\n"
     ]
    },
    {
     "name": "stderr",
     "output_type": "stream",
     "text": [
      "Clock: Timer overflowed (late by 0.029s)\n"
     ]
    },
    {
     "name": "stdout",
     "output_type": "stream",
     "text": [
      "diff:4.000000000050932, timeYY: 401.9208333349996, 402 beat: 4\n",
      "\n"
     ]
    },
    {
     "name": "stderr",
     "output_type": "stream",
     "text": [
      "Clock: Timer overflowed (late by 0.021s)\n"
     ]
    },
    {
     "name": "stdout",
     "output_type": "stream",
     "text": [
      "diff:4.000000000050932, timeYY: 405.92083333505053, 406 beat: 1\n",
      "\n"
     ]
    },
    {
     "name": "stderr",
     "output_type": "stream",
     "text": [
      "Clock: Timer overflowed (late by 0.065s)\n",
      "Clock: Timer overflowed (late by 0.025s)\n",
      "Clock: Timer overflowed (late by 0.024s)\n",
      "Clock: Timer overflowed (late by 0.023s)\n"
     ]
    },
    {
     "name": "stdout",
     "output_type": "stream",
     "text": [
      "diff:4.000000000050932, timeYY: 409.92083333510146, 410 beat: 2\n",
      "\n",
      "diff:4.000000000050932, timeYY: 413.9208333351524, 414 beat: 3\n",
      "\n"
     ]
    },
    {
     "name": "stderr",
     "output_type": "stream",
     "text": [
      "Clock: Timer overflowed (late by 0.038s)\n",
      "Clock: Timer overflowed (late by 0.030s)\n",
      "Clock: Timer overflowed (late by 0.034s)\n",
      "Clock: Timer overflowed (late by 0.030s)\n"
     ]
    },
    {
     "name": "stdout",
     "output_type": "stream",
     "text": [
      "diff:4.000000000050932, timeYY: 417.9208333352033, 418 beat: 4\n",
      "\n",
      "diff:4.000000000050932, timeYY: 421.92083333525426, 422 beat: 1\n",
      "\n",
      "diff:4.000000000050932, timeYY: 425.9208333353052, 426 beat: 2\n",
      "\n",
      "diff:4.000000000050932, timeYY: 429.9208333353561, 430 beat: 3\n",
      "\n",
      "diff:4.000000000050932, timeYY: 433.92083333540705, 434 beat: 4\n",
      "\n",
      "diff:4.000000000050932, timeYY: 437.920833335458, 438 beat: 1\n",
      "\n"
     ]
    },
    {
     "name": "stderr",
     "output_type": "stream",
     "text": [
      "Clock: Timer overflowed (late by 0.021s)\n",
      "Clock: Timer overflowed (late by 0.046s)\n",
      "Clock: Timer overflowed (late by 0.024s)\n",
      "Clock: Timer overflowed (late by 0.059s)\n",
      "Clock: Timer overflowed (late by 0.043s)\n",
      "Clock: Timer overflowed (late by 0.025s)\n",
      "Clock: Timer overflowed (late by 0.023s)\n",
      "Clock: Timer overflowed (late by 0.053s)\n",
      "Clock: Timer overflowed (late by 0.038s)\n"
     ]
    },
    {
     "name": "stdout",
     "output_type": "stream",
     "text": [
      "diff:4.000000000050932, timeYY: 441.9208333355089, 442 beat: 2\n",
      "\n",
      "diff:4.000000000050932, timeYY: 445.92083333555985, 446 beat: 3\n",
      "\n"
     ]
    },
    {
     "name": "stderr",
     "output_type": "stream",
     "text": [
      "Clock: Timer overflowed (late by 0.043s)\n"
     ]
    },
    {
     "name": "stdout",
     "output_type": "stream",
     "text": [
      "diff:4.000000000050932, timeYY: 449.9208333356108, 450 beat: 4\n",
      "\n",
      "diff:4.000000000050932, timeYY: 453.9208333356617, 454 beat: 1\n",
      "\n",
      "diff:4.000000000050932, timeYY: 457.92083333571264, 458 beat: 2\n",
      "\n",
      "diff:4.000000000050932, timeYY: 461.9208333357636, 462 beat: 3\n",
      "\n",
      "diff:4.000000000050932, timeYY: 465.9208333358145, 466 beat: 4\n",
      "\n",
      "diff:4.000000000050932, timeYY: 469.92083333586544, 470 beat: 1\n",
      "\n",
      "diff:4.000000000050932, timeYY: 473.92083333591637, 474 beat: 2\n",
      "\n",
      "diff:4.000000000050932, timeYY: 477.9208333359673, 478 beat: 3\n",
      "\n",
      "diff:4.000000000050932, timeYY: 481.92083333601823, 482 beat: 4\n",
      "\n",
      "diff:4.000000000050932, timeYY: 485.92083333606917, 486 beat: 1\n",
      "\n"
     ]
    },
    {
     "name": "stderr",
     "output_type": "stream",
     "text": [
      "Clock: Timer overflowed (late by 0.029s)\n"
     ]
    },
    {
     "name": "stdout",
     "output_type": "stream",
     "text": [
      "diff:4.000000000050932, timeYY: 489.9208333361201, 490 beat: 2\n",
      "\n",
      "diff:4.000000000050932, timeYY: 493.92083333617103, 494 beat: 3\n",
      "\n",
      "diff:4.000000000050932, timeYY: 497.92083333622196, 498 beat: 4\n",
      "\n"
     ]
    },
    {
     "name": "stderr",
     "output_type": "stream",
     "text": [
      "Clock: Timer overflowed (late by 0.055s)\n"
     ]
    },
    {
     "name": "stdout",
     "output_type": "stream",
     "text": [
      "diff:4.000000000050932, timeYY: 501.9208333362729, 502 beat: 1\n",
      "\n"
     ]
    },
    {
     "name": "stderr",
     "output_type": "stream",
     "text": [
      "Clock: Timer overflowed (late by 0.043s)\n",
      "Clock: Timer overflowed (late by 0.026s)\n",
      "Clock: Timer overflowed (late by 0.027s)\n",
      "Clock: Timer overflowed (late by 0.022s)\n",
      "Clock: Timer overflowed (late by 0.027s)\n",
      "Clock: Timer overflowed (late by 0.033s)\n",
      "Clock: Timer overflowed (late by 0.028s)\n"
     ]
    },
    {
     "name": "stdout",
     "output_type": "stream",
     "text": [
      "diff:4.000000000050932, timeYY: 505.9208333363238, 506 beat: 2\n",
      "\n"
     ]
    }
   ],
   "source": [
    "beat=beat1"
   ]
  },
  {
   "cell_type": "code",
   "execution_count": null,
   "id": "37046063-556c-4d1b-993b-8b286b8ba873",
   "metadata": {},
   "outputs": [],
   "source": [
    "midi_in.callback = print_message"
   ]
  }
 ],
 "metadata": {
  "kernelspec": {
   "display_name": "Python 3 (ipykernel)",
   "language": "python",
   "name": "python3"
  },
  "language_info": {
   "codemirror_mode": {
    "name": "ipython",
    "version": 3
   },
   "file_extension": ".py",
   "mimetype": "text/x-python",
   "name": "python",
   "nbconvert_exporter": "python",
   "pygments_lexer": "ipython3",
   "version": "3.9.12"
  }
 },
 "nbformat": 4,
 "nbformat_minor": 5
}
